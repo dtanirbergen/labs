{
 "cells": [
  {
   "cell_type": "raw",
   "id": "98190633-e27f-4420-8ac0-7ae1072951b7",
   "metadata": {},
   "source": [
    "Lab 01 \n",
    "Ex1"
   ]
  },
  {
   "cell_type": "code",
   "execution_count": 3,
   "id": "8cfb985f-e1fb-46d9-900c-ced352bdd45e",
   "metadata": {},
   "outputs": [
    {
     "name": "stdout",
     "output_type": "stream",
     "text": [
      "Hello, World!\n"
     ]
    }
   ],
   "source": [
    "print(\"Hello, World!\")"
   ]
  },
  {
   "cell_type": "markdown",
   "id": "38cb4910-e0bb-46b4-b37f-16f734beccb3",
   "metadata": {},
   "source": [
    "Ex 2"
   ]
  },
  {
   "cell_type": "code",
   "execution_count": 6,
   "id": "bb6156e9-3f49-4e50-8cd1-d32ea435b61b",
   "metadata": {},
   "outputs": [
    {
     "name": "stdout",
     "output_type": "stream",
     "text": [
      "3.11.5 (main, Sep 11 2023, 13:54:46) [GCC 11.2.0]\n"
     ]
    }
   ],
   "source": [
    "import sys\n",
    "\n",
    "print(sys.version)\n"
   ]
  },
  {
   "cell_type": "markdown",
   "id": "ac7869fb-3c3a-4843-bd64-b49dc7c835e7",
   "metadata": {},
   "source": [
    "Ex 3"
   ]
  },
  {
   "cell_type": "code",
   "execution_count": 9,
   "id": "d2cbed99-8705-40fc-a84a-dd9c0a4fb764",
   "metadata": {},
   "outputs": [
    {
     "name": "stdout",
     "output_type": "stream",
     "text": [
      "Five is greater than two!\n"
     ]
    }
   ],
   "source": [
    "if 5 > 2:\n",
    "    print(\"Five is greater than two!\")"
   ]
  },
  {
   "cell_type": "markdown",
   "id": "b7acd65b-10d8-4ad0-9913-15981246102f",
   "metadata": {},
   "source": [
    "Ex 4"
   ]
  },
  {
   "cell_type": "code",
   "execution_count": 12,
   "id": "520ca1c9-6f2e-4589-8c75-ee5d96925ea0",
   "metadata": {},
   "outputs": [
    {
     "name": "stdout",
     "output_type": "stream",
     "text": [
      "Five is greater than two!\n",
      "Five if greater than two!\n"
     ]
    }
   ],
   "source": [
    "if 5 > 2:\n",
    "    print(\"Five is greater than two!\")\n",
    "if 5 > 2:\n",
    "        print(\"Five if greater than two!\")"
   ]
  },
  {
   "cell_type": "markdown",
   "id": "5ad9dc28-3ce7-452b-8b98-68e715ffc537",
   "metadata": {},
   "source": [
    "Ex 5"
   ]
  },
  {
   "cell_type": "code",
   "execution_count": 21,
   "id": "2cdde5e2-736d-4d4e-b44d-0c2246172e78",
   "metadata": {},
   "outputs": [],
   "source": [
    "x = 5\n",
    "y = \"Hello, World!\""
   ]
  },
  {
   "cell_type": "markdown",
   "id": "cf23136a-d1ed-4b58-8752-d4f7767d5f8c",
   "metadata": {},
   "source": [
    "Ex 6"
   ]
  },
  {
   "cell_type": "code",
   "execution_count": 25,
   "id": "174c88ad-b57e-4c72-a82e-458a539f31fa",
   "metadata": {},
   "outputs": [
    {
     "name": "stdout",
     "output_type": "stream",
     "text": [
      "Hello, World!\n"
     ]
    }
   ],
   "source": [
    "#This is a comment.\n",
    "print(\"Hello, World!\")"
   ]
  },
  {
   "cell_type": "markdown",
   "id": "6acd6adf-202a-42ab-a73f-d1cad6e77270",
   "metadata": {},
   "source": [
    "Ex 7\n"
   ]
  },
  {
   "cell_type": "code",
   "execution_count": 28,
   "id": "cdce822e-7eca-41d8-b1c3-fe0fa80a343a",
   "metadata": {},
   "outputs": [
    {
     "name": "stdout",
     "output_type": "stream",
     "text": [
      "Hello, World!\n"
     ]
    }
   ],
   "source": [
    "print(\"Hello, World!\") #This is a comment"
   ]
  },
  {
   "cell_type": "markdown",
   "id": "7ad942b2-83f9-473f-b488-5ac77a604107",
   "metadata": {},
   "source": [
    "Ex 8"
   ]
  },
  {
   "cell_type": "code",
   "execution_count": 31,
   "id": "5e73f81f-91d9-4b02-bf9b-712f694ddd0b",
   "metadata": {},
   "outputs": [
    {
     "name": "stdout",
     "output_type": "stream",
     "text": [
      "Cheers, Mate!\n"
     ]
    }
   ],
   "source": [
    "#print(\"Hello, World!\")\n",
    "print(\"Cheers, Mate!\")"
   ]
  },
  {
   "cell_type": "markdown",
   "id": "64fbe68d-2283-4410-8130-07ec9bb571f2",
   "metadata": {},
   "source": [
    "Ex 9"
   ]
  },
  {
   "cell_type": "code",
   "execution_count": 34,
   "id": "084bea4b-037e-445c-b3f8-af25871c51af",
   "metadata": {},
   "outputs": [
    {
     "name": "stdout",
     "output_type": "stream",
     "text": [
      "Hello, World!\n"
     ]
    }
   ],
   "source": [
    "#This is a comment\n",
    "#written in\n",
    "#more than just one line\n",
    "print(\"Hello, World!\")"
   ]
  },
  {
   "cell_type": "markdown",
   "id": "f2306335-a251-4922-8313-d3ae2a51e579",
   "metadata": {},
   "source": [
    "Ex 10"
   ]
  },
  {
   "cell_type": "code",
   "execution_count": 37,
   "id": "a4b56ba2-3690-4441-ad65-6793c6403f91",
   "metadata": {},
   "outputs": [
    {
     "name": "stdout",
     "output_type": "stream",
     "text": [
      "Hello, World!\n"
     ]
    }
   ],
   "source": [
    "\"\"\"\n",
    "This is a comment\n",
    "written in\n",
    "more than just one line\n",
    "\"\"\"\n",
    "print(\"Hello, World!\")"
   ]
  },
  {
   "cell_type": "markdown",
   "id": "6f0557ea-c13d-4f16-9b0d-62711b56b101",
   "metadata": {},
   "source": [
    "Ex 11"
   ]
  },
  {
   "cell_type": "code",
   "execution_count": 40,
   "id": "bf9ba2dd-1728-4b3e-8342-636688979e46",
   "metadata": {},
   "outputs": [
    {
     "name": "stdout",
     "output_type": "stream",
     "text": [
      "5\n",
      "John\n"
     ]
    }
   ],
   "source": [
    "x = 5\n",
    "y = \"John\"\n",
    "print(x)\n",
    "print(y)"
   ]
  },
  {
   "cell_type": "markdown",
   "id": "b7f2b86e-1d16-4535-9063-7642f2d469c4",
   "metadata": {},
   "source": [
    "Ex 12"
   ]
  },
  {
   "cell_type": "code",
   "execution_count": 43,
   "id": "4c610a62-fe11-45eb-abc2-4bb5ee5d349b",
   "metadata": {},
   "outputs": [
    {
     "name": "stdout",
     "output_type": "stream",
     "text": [
      "Sally\n"
     ]
    }
   ],
   "source": [
    "x = 4       # x is of type int\n",
    "x = \"Sally\" # x is now of type str\n",
    "print(x)"
   ]
  },
  {
   "cell_type": "markdown",
   "id": "3f348a3e-1bc3-4fd2-b006-4ef52fc48a37",
   "metadata": {},
   "source": [
    "Ex 13"
   ]
  },
  {
   "cell_type": "code",
   "execution_count": 46,
   "id": "22631793-fcf9-4718-847a-430a6372a2bf",
   "metadata": {},
   "outputs": [],
   "source": [
    "x = str(3) # x will be '3'\n",
    "y = int(3) # y will be 3\n",
    "z = float(3) # z will be 3.0"
   ]
  },
  {
   "cell_type": "markdown",
   "id": "b6178c4d-5732-4060-afd9-3310f56abd7a",
   "metadata": {},
   "source": [
    "Ex 14"
   ]
  },
  {
   "cell_type": "code",
   "execution_count": 49,
   "id": "2fb6864b-d41d-4c03-8248-4c4fd992ca48",
   "metadata": {},
   "outputs": [
    {
     "name": "stdout",
     "output_type": "stream",
     "text": [
      "<class 'int'>\n",
      "<class 'str'>\n"
     ]
    }
   ],
   "source": [
    "x = 5\n",
    "y = \"John\"\n",
    "print(type(x))\n",
    "print(type(y))"
   ]
  },
  {
   "cell_type": "markdown",
   "id": "c8e111c9-5397-4c83-ab25-c4025836e79b",
   "metadata": {},
   "source": [
    "Ex 15"
   ]
  },
  {
   "cell_type": "code",
   "execution_count": 54,
   "id": "e8ec4d9c-b0a6-419d-9027-800df02c2755",
   "metadata": {},
   "outputs": [],
   "source": [
    "x = \"John\"\n",
    "# is the same as\n",
    "x = 'John'"
   ]
  },
  {
   "cell_type": "markdown",
   "id": "56936450-844a-4132-990e-b3a1c9c767c7",
   "metadata": {},
   "source": [
    "Ex 16"
   ]
  },
  {
   "cell_type": "code",
   "execution_count": 57,
   "id": "8fc9602f-2268-4b51-945c-3d5114429565",
   "metadata": {},
   "outputs": [],
   "source": [
    "a = 4\n",
    "A = \"Sally\"\n",
    "#A will not overwrite a"
   ]
  },
  {
   "cell_type": "markdown",
   "id": "f3673161-a595-43c8-8b55-b8b26133b5af",
   "metadata": {},
   "source": [
    "Ex 17"
   ]
  },
  {
   "cell_type": "code",
   "execution_count": 60,
   "id": "7c8210e5-5290-4dcd-aa1e-1243a44ba6ac",
   "metadata": {},
   "outputs": [],
   "source": [
    "myvar = \"John\"\n",
    "my_var = \"John\"\n",
    "_my_var = \"John\"\n",
    "myVar = \"John\"\n",
    "MYVAR = \"John\"\n",
    "myvar2 = \"John\""
   ]
  },
  {
   "cell_type": "markdown",
   "id": "d3825def-95dd-4c29-ba1b-8920be9d8048",
   "metadata": {},
   "source": [
    "Ex 18"
   ]
  },
  {
   "cell_type": "code",
   "execution_count": 63,
   "id": "3691afa4-db22-413a-8f15-ee4e68337dd5",
   "metadata": {},
   "outputs": [
    {
     "name": "stdout",
     "output_type": "stream",
     "text": [
      "Orange\n",
      "Banana\n",
      "Cherry\n"
     ]
    }
   ],
   "source": [
    "x, y, z = \"Orange\", \"Banana\", \"Cherry\"\n",
    "print(x)\n",
    "print(y)\n",
    "print(z)"
   ]
  },
  {
   "cell_type": "markdown",
   "id": "0c28f6e4-7ae1-46b7-9e94-e1ebd0a1ec6c",
   "metadata": {},
   "source": [
    "Ex 19"
   ]
  },
  {
   "cell_type": "code",
   "execution_count": 66,
   "id": "e8d54f5d-79f0-451e-bce4-ec522a5751a1",
   "metadata": {},
   "outputs": [
    {
     "name": "stdout",
     "output_type": "stream",
     "text": [
      "Orange\n",
      "Orange\n",
      "Orange\n"
     ]
    }
   ],
   "source": [
    "x = y = z = \"Orange\"\n",
    "print(x)\n",
    "print(y)\n",
    "print(z)"
   ]
  },
  {
   "cell_type": "markdown",
   "id": "d587b360-3e50-4f79-b0d6-c58fedc1b0e8",
   "metadata": {},
   "source": [
    "Ex 20"
   ]
  },
  {
   "cell_type": "code",
   "execution_count": 69,
   "id": "93242da9-cdba-490e-a11b-62b9c3a604e1",
   "metadata": {},
   "outputs": [
    {
     "name": "stdout",
     "output_type": "stream",
     "text": [
      "apple\n",
      "banana\n",
      "cherry\n"
     ]
    }
   ],
   "source": [
    "fruits = [\"apple\", \"banana\", \"cherry\"]\n",
    "x, y, z = fruits\n",
    "print(x)\n",
    "print(y)\n",
    "print(z)"
   ]
  },
  {
   "cell_type": "markdown",
   "id": "6b75587f-86ff-44e7-95f8-e093daa43b55",
   "metadata": {},
   "source": [
    "Ex 21\n"
   ]
  },
  {
   "cell_type": "code",
   "execution_count": 72,
   "id": "39a26dc3-bbef-4adf-af0b-cb7d76c89565",
   "metadata": {},
   "outputs": [
    {
     "name": "stdout",
     "output_type": "stream",
     "text": [
      "Python is awesome\n"
     ]
    }
   ],
   "source": [
    "x = \"Python is awesome\"\n",
    "print(x)"
   ]
  },
  {
   "cell_type": "markdown",
   "id": "b2f80c6a-733a-4126-b64a-4724a0d55069",
   "metadata": {},
   "source": [
    "Ex 22\n"
   ]
  },
  {
   "cell_type": "code",
   "execution_count": 75,
   "id": "379711fc-5de3-441e-9d90-e62da4fcb03b",
   "metadata": {},
   "outputs": [
    {
     "name": "stdout",
     "output_type": "stream",
     "text": [
      "Python  is  awesome \n"
     ]
    }
   ],
   "source": [
    "x = \"Python \"\n",
    "y = \"is \"\n",
    "z = \"awesome \"\n",
    "print(x, y, z)"
   ]
  },
  {
   "cell_type": "markdown",
   "id": "e623e29d-1e94-42e8-a911-2ddca32362ee",
   "metadata": {},
   "source": [
    "Ex 23"
   ]
  },
  {
   "cell_type": "code",
   "execution_count": 78,
   "id": "27fbf9be-f099-4da1-a4a7-59c51335e91e",
   "metadata": {},
   "outputs": [
    {
     "name": "stdout",
     "output_type": "stream",
     "text": [
      "Python is awesome \n"
     ]
    }
   ],
   "source": [
    "x = \"Python \"\n",
    "y = \"is \"\n",
    "z = \"awesome \"\n",
    "print(x + y + z)"
   ]
  },
  {
   "cell_type": "markdown",
   "id": "6408b3ed-a237-4823-9b1b-470603438a2f",
   "metadata": {},
   "source": [
    "Ex 24"
   ]
  },
  {
   "cell_type": "code",
   "execution_count": 81,
   "id": "4c846392-1a23-4411-9e96-3c3b9874cfdc",
   "metadata": {},
   "outputs": [
    {
     "name": "stdout",
     "output_type": "stream",
     "text": [
      "15\n"
     ]
    }
   ],
   "source": [
    "x = 5\n",
    "y = 10\n",
    "print(x + y)"
   ]
  },
  {
   "cell_type": "markdown",
   "id": "9c32d3c2-d3cb-48fb-8345-c6d55688cca0",
   "metadata": {},
   "source": [
    "Ex 25"
   ]
  },
  {
   "cell_type": "code",
   "execution_count": 84,
   "id": "434e6510-c55c-45e9-b46a-bfe3ad45c8f3",
   "metadata": {},
   "outputs": [
    {
     "name": "stdout",
     "output_type": "stream",
     "text": [
      "5 John\n"
     ]
    }
   ],
   "source": [
    "x = 5\n",
    "y = \"John\"\n",
    "print(x, y)"
   ]
  },
  {
   "cell_type": "markdown",
   "id": "092cd6f5-8783-460d-a6a9-e63bf16fe14a",
   "metadata": {},
   "source": [
    "Ex 26"
   ]
  },
  {
   "cell_type": "code",
   "execution_count": 87,
   "id": "2d9ab470-a680-4fde-90b9-d718a26b904d",
   "metadata": {},
   "outputs": [
    {
     "name": "stdout",
     "output_type": "stream",
     "text": [
      "Python is awesome\n"
     ]
    }
   ],
   "source": [
    "x = \"awesome\"\n",
    "\n",
    "def myfunc():\n",
    "    print(\"Python is \" + x)\n",
    "\n",
    "myfunc()"
   ]
  },
  {
   "cell_type": "markdown",
   "id": "d72c5c0c-887a-4a93-8a66-64bd9193f9f2",
   "metadata": {},
   "source": [
    "Ex 27\n"
   ]
  },
  {
   "cell_type": "code",
   "execution_count": 90,
   "id": "f6be8edd-1cd4-4476-9c45-ed92b7d122cb",
   "metadata": {},
   "outputs": [
    {
     "name": "stdout",
     "output_type": "stream",
     "text": [
      "Python is fantastic\n",
      "Python is awesome\n"
     ]
    }
   ],
   "source": [
    "x = \"awesome\"\n",
    "\n",
    "def myfunc():\n",
    "    x = \"fantastic\"\n",
    "    print(\"Python is \" + x)\n",
    "\n",
    "myfunc()\n",
    "\n",
    "print(\"Python is \" + x)"
   ]
  },
  {
   "cell_type": "markdown",
   "id": "14f414d0-abe4-4d86-b69b-73d1e02c1237",
   "metadata": {},
   "source": [
    "Ex 28\n"
   ]
  },
  {
   "cell_type": "code",
   "execution_count": 93,
   "id": "6187dd2e-6035-46a4-925c-12d847c98fc2",
   "metadata": {},
   "outputs": [
    {
     "name": "stdout",
     "output_type": "stream",
     "text": [
      "Python is fantastic\n"
     ]
    }
   ],
   "source": [
    "def myfunc():\n",
    "    global x\n",
    "    x = \"fantastic\"\n",
    "\n",
    "myfunc()\n",
    "\n",
    "print(\"Python is \" + x)"
   ]
  },
  {
   "cell_type": "markdown",
   "id": "98310889-8f3c-4ce6-8cfb-8d2b48445e65",
   "metadata": {},
   "source": [
    "Ex 29\n"
   ]
  },
  {
   "cell_type": "code",
   "execution_count": 96,
   "id": "c96bb1c1-eaf3-41b2-a3f6-0927e98ce998",
   "metadata": {},
   "outputs": [
    {
     "name": "stdout",
     "output_type": "stream",
     "text": [
      "Python is fantastic\n"
     ]
    }
   ],
   "source": [
    "x = 'awesome'\n",
    "\n",
    "def myfunc():\n",
    "    global x\n",
    "    x = \"fantastic\"\n",
    "\n",
    "myfunc()\n",
    "\n",
    "print(\"Python is \" + x)\n",
    "    "
   ]
  },
  {
   "cell_type": "markdown",
   "id": "f79691b9-b149-4eed-8d20-6a29a768273d",
   "metadata": {},
   "source": [
    "Ex 30\n"
   ]
  },
  {
   "cell_type": "code",
   "execution_count": 99,
   "id": "00d5bd56-8802-4a1e-b19c-cd74dffdc3cb",
   "metadata": {},
   "outputs": [
    {
     "name": "stdout",
     "output_type": "stream",
     "text": [
      "<class 'int'>\n"
     ]
    }
   ],
   "source": [
    "x = 5\n",
    "print(type(x))"
   ]
  },
  {
   "cell_type": "markdown",
   "id": "cf8987f7-1d96-4877-85b7-8c513f90691e",
   "metadata": {},
   "source": [
    "Ex 31"
   ]
  },
  {
   "cell_type": "code",
   "execution_count": 102,
   "id": "60383c7e-6c82-4637-8991-cabaf82bcc23",
   "metadata": {},
   "outputs": [],
   "source": [
    "x = 1 # int\n",
    "y = 2.8 # float\n",
    "z = 1j # complex"
   ]
  },
  {
   "cell_type": "markdown",
   "id": "5e37757d-63d9-4eac-994b-3cab50de0619",
   "metadata": {},
   "source": [
    "Ex 32"
   ]
  },
  {
   "cell_type": "code",
   "execution_count": 105,
   "id": "584cf115-1585-4951-a300-44b657dee60c",
   "metadata": {},
   "outputs": [
    {
     "name": "stdout",
     "output_type": "stream",
     "text": [
      "<class 'int'>\n",
      "<class 'float'>\n",
      "<class 'complex'>\n"
     ]
    }
   ],
   "source": [
    "print(type(x))\n",
    "print(type(y))\n",
    "print(type(z))"
   ]
  },
  {
   "cell_type": "markdown",
   "id": "e39bd974-b706-4b87-96a2-74e6a5d20c78",
   "metadata": {},
   "source": [
    "Ex 33"
   ]
  },
  {
   "cell_type": "code",
   "execution_count": 108,
   "id": "4a44d09f-d451-41f6-bb8c-fbb2b4f56334",
   "metadata": {},
   "outputs": [
    {
     "name": "stdout",
     "output_type": "stream",
     "text": [
      "<class 'int'>\n",
      "<class 'int'>\n",
      "<class 'int'>\n"
     ]
    }
   ],
   "source": [
    "x = 1\n",
    "y = 35656222554887711\n",
    "z = -3255522\n",
    "\n",
    "print(type(x))\n",
    "print(type(y))\n",
    "print(type(z))"
   ]
  },
  {
   "cell_type": "markdown",
   "id": "fb6a64ee-8eef-4f6e-9355-acf6636a64f7",
   "metadata": {},
   "source": [
    "Ex 34"
   ]
  },
  {
   "cell_type": "code",
   "execution_count": 111,
   "id": "4d73cfe4-158d-4bdf-8a30-ca9ef698aa16",
   "metadata": {},
   "outputs": [
    {
     "name": "stdout",
     "output_type": "stream",
     "text": [
      "<class 'float'>\n",
      "<class 'float'>\n",
      "<class 'float'>\n"
     ]
    }
   ],
   "source": [
    "x = 1.10\n",
    "y = 1.0\n",
    "z = -35.59\n",
    "\n",
    "print(type(x))\n",
    "print(type(y))\n",
    "print(type(z))"
   ]
  },
  {
   "cell_type": "markdown",
   "id": "4773933b-c749-4be9-87cb-5e6377c5b15a",
   "metadata": {},
   "source": [
    "Ex 35"
   ]
  },
  {
   "cell_type": "code",
   "execution_count": 116,
   "id": "e559bd50-c40a-452f-964a-7dbea8d26f49",
   "metadata": {},
   "outputs": [
    {
     "name": "stdout",
     "output_type": "stream",
     "text": [
      "<class 'float'>\n",
      "<class 'float'>\n",
      "<class 'float'>\n"
     ]
    }
   ],
   "source": [
    "x = 35e3\n",
    "y = 12E4\n",
    "z = -87.7e100\n",
    "\n",
    "print(type(x))\n",
    "print(type(y))\n",
    "print(type(z))"
   ]
  },
  {
   "cell_type": "markdown",
   "id": "5ecfd436-a443-4c14-89b3-8bb6e83ed83c",
   "metadata": {},
   "source": [
    "Ex 36"
   ]
  },
  {
   "cell_type": "code",
   "execution_count": 119,
   "id": "c4ca6a70-c732-49b7-8c92-1e509dd5931d",
   "metadata": {},
   "outputs": [
    {
     "name": "stdout",
     "output_type": "stream",
     "text": [
      "<class 'complex'>\n",
      "<class 'complex'>\n",
      "<class 'complex'>\n"
     ]
    }
   ],
   "source": [
    "x = 3+5j\n",
    "y = 5j\n",
    "z = -5j\n",
    "\n",
    "print(type(x))\n",
    "print(type(y))\n",
    "print(type(z))"
   ]
  },
  {
   "cell_type": "markdown",
   "id": "223d11e5-67fa-4e2a-bf16-d97ce5570c21",
   "metadata": {},
   "source": [
    "Ex 37"
   ]
  },
  {
   "cell_type": "code",
   "execution_count": 122,
   "id": "5d9549dd-aa9a-4fe8-ab4b-0521dde1b337",
   "metadata": {},
   "outputs": [
    {
     "name": "stdout",
     "output_type": "stream",
     "text": [
      "1.0\n",
      "2\n",
      "(1+0j)\n",
      "<class 'float'>\n",
      "<class 'int'>\n",
      "<class 'complex'>\n"
     ]
    }
   ],
   "source": [
    "x = 1 # int\n",
    "y = 2.8 # float\n",
    "z = 1j #complex\n",
    "\n",
    "#convert from int to float:\n",
    "a = float(x)\n",
    "\n",
    "#convert from float to int:\n",
    "b = int(y)\n",
    "\n",
    "#convert from int to complex:\n",
    "c = complex(x)\n",
    "\n",
    "print(a)\n",
    "print(b)\n",
    "print(c)\n",
    "\n",
    "print(type(a))\n",
    "print(type(b))\n",
    "print(type(c))"
   ]
  },
  {
   "cell_type": "markdown",
   "id": "e844a6b6-0ba3-4ba3-8efc-cb429357c81b",
   "metadata": {},
   "source": [
    "Ex 38"
   ]
  },
  {
   "cell_type": "code",
   "execution_count": 125,
   "id": "21bd5b73-7538-4266-98c2-898d398a7625",
   "metadata": {},
   "outputs": [
    {
     "name": "stdout",
     "output_type": "stream",
     "text": [
      "2\n"
     ]
    }
   ],
   "source": [
    "import random\n",
    "\n",
    "print(random.randrange(1, 10))"
   ]
  },
  {
   "cell_type": "markdown",
   "id": "7e786a9a-ee14-4c40-93cc-bc03a0fadb7a",
   "metadata": {},
   "source": [
    "Ex 39\n"
   ]
  },
  {
   "cell_type": "code",
   "execution_count": 128,
   "id": "d5be8231-5c9e-497c-b359-c8d78e2ca130",
   "metadata": {},
   "outputs": [],
   "source": [
    "x = int(1) # x will be 1\n",
    "y = int(2.8) # y will be 2\n",
    "z = int(\"3\") # z will be 3"
   ]
  },
  {
   "cell_type": "markdown",
   "id": "4e16f58e-a92b-4259-9460-50800b7b4a03",
   "metadata": {},
   "source": [
    "Ex 40"
   ]
  },
  {
   "cell_type": "code",
   "execution_count": 132,
   "id": "20f10907-a1fc-43c6-955e-c68a68919586",
   "metadata": {},
   "outputs": [],
   "source": [
    "x = float(1) # x will be 1.0\n",
    "y = int(2.8) # y will be 2.8\n",
    "z = int(\"3\") # z will be 3.0\n",
    "w = float(\"4.2\") # w will be 4.2\n"
   ]
  },
  {
   "cell_type": "markdown",
   "id": "a78a6ae3-23fd-4fb9-9c3e-516e59894794",
   "metadata": {},
   "source": [
    "Ex 41"
   ]
  },
  {
   "cell_type": "code",
   "execution_count": 135,
   "id": "0e4543d9-b81f-4ff4-8f22-9b65f04917e0",
   "metadata": {},
   "outputs": [],
   "source": [
    "x = str(\"s1\") # x will be 's1'\n",
    "y = str(2) # y will be '2'\n",
    "z = str(3.0) # z will be '3.0'"
   ]
  },
  {
   "cell_type": "markdown",
   "id": "1236a4c3-1fa4-4524-80ff-9bcfbfcaa116",
   "metadata": {},
   "source": [
    "Ex 42"
   ]
  },
  {
   "cell_type": "code",
   "execution_count": 140,
   "id": "bab1932d-ddcf-4daa-9f78-9816e27c57d1",
   "metadata": {},
   "outputs": [
    {
     "name": "stdout",
     "output_type": "stream",
     "text": [
      "Hello\n",
      "Hello\n"
     ]
    }
   ],
   "source": [
    "print(\"Hello\")\n",
    "print('Hello')"
   ]
  },
  {
   "cell_type": "markdown",
   "id": "0637638a-a3da-4259-a841-cf3b0332f4e0",
   "metadata": {},
   "source": [
    "Ex 43"
   ]
  },
  {
   "cell_type": "code",
   "execution_count": 143,
   "id": "a03e61d7-09c8-40e0-9644-25128368804f",
   "metadata": {},
   "outputs": [
    {
     "name": "stdout",
     "output_type": "stream",
     "text": [
      "It's alright\n",
      "He is called 'Johny'\n",
      "He is called \"Johny\"\n"
     ]
    }
   ],
   "source": [
    "print(\"It's alright\")\n",
    "print(\"He is called 'Johny'\")\n",
    "print('He is called \"Johny\"')"
   ]
  },
  {
   "cell_type": "markdown",
   "id": "94e4607f-bedc-4998-863a-d637c69ed90e",
   "metadata": {},
   "source": [
    "Ex 44"
   ]
  },
  {
   "cell_type": "code",
   "execution_count": 146,
   "id": "99c5b51e-c91a-402d-adc4-0ff321f4231d",
   "metadata": {},
   "outputs": [
    {
     "name": "stdout",
     "output_type": "stream",
     "text": [
      "Hello\n"
     ]
    }
   ],
   "source": [
    "a = \"Hello\"\n",
    "print(a)"
   ]
  },
  {
   "cell_type": "markdown",
   "id": "15184a74-b093-431f-8b68-63ef46faf1ce",
   "metadata": {},
   "source": [
    "Ex 45"
   ]
  },
  {
   "cell_type": "code",
   "execution_count": 149,
   "id": "b93fe24f-78ea-42be-aa63-966e0ee60fe9",
   "metadata": {},
   "outputs": [
    {
     "name": "stdout",
     "output_type": "stream",
     "text": [
      "Lorem ipsum dolor sit amet,\n",
      "consectetur adipiscing elit,\n",
      "sed do eiusmod tempor incididunt\n",
      "ut labore et dolore magna aliqua.\n"
     ]
    }
   ],
   "source": [
    "a = \"\"\"Lorem ipsum dolor sit amet,\n",
    "consectetur adipiscing elit,\n",
    "sed do eiusmod tempor incididunt\n",
    "ut labore et dolore magna aliqua.\"\"\"\n",
    "print(a)"
   ]
  },
  {
   "cell_type": "markdown",
   "id": "482d01fd-eaf1-44bf-8c5f-cfb6da028047",
   "metadata": {},
   "source": [
    "Ex 46"
   ]
  },
  {
   "cell_type": "code",
   "execution_count": 154,
   "id": "42a2e116-48e1-4077-9d17-1dda99fa5674",
   "metadata": {},
   "outputs": [
    {
     "name": "stdout",
     "output_type": "stream",
     "text": [
      "Lorem ipsum dolor sit amet,\n",
      "consectetur adipiscing elit,\n",
      "sed do eiusmod tempor incididunt\n",
      "ut labore et dolore magna aliqua.\n"
     ]
    }
   ],
   "source": [
    "a = '''Lorem ipsum dolor sit amet,\n",
    "consectetur adipiscing elit,\n",
    "sed do eiusmod tempor incididunt\n",
    "ut labore et dolore magna aliqua.'''\n",
    "print(a)"
   ]
  },
  {
   "cell_type": "markdown",
   "id": "ce0fa9d8-2e8e-490d-bef7-713e766fcd59",
   "metadata": {},
   "source": [
    "Ex 47"
   ]
  },
  {
   "cell_type": "code",
   "execution_count": 157,
   "id": "7ac0bad4-66b5-4fb8-bc44-9ab9b9a74d17",
   "metadata": {},
   "outputs": [
    {
     "name": "stdout",
     "output_type": "stream",
     "text": [
      "e\n"
     ]
    }
   ],
   "source": [
    "a = \"Hello, World!\"\n",
    "print(a[1])"
   ]
  },
  {
   "cell_type": "markdown",
   "id": "39c8faba-1178-44d0-84e3-4a76d98c960e",
   "metadata": {},
   "source": [
    "Ex 48"
   ]
  },
  {
   "cell_type": "code",
   "execution_count": 160,
   "id": "9aad9150-61ab-4296-9a36-bf27d7777d6f",
   "metadata": {},
   "outputs": [
    {
     "name": "stdout",
     "output_type": "stream",
     "text": [
      "b\n",
      "a\n",
      "n\n",
      "a\n",
      "n\n",
      "a\n"
     ]
    }
   ],
   "source": [
    "for x in \"banana\":\n",
    "    print(x)"
   ]
  },
  {
   "cell_type": "markdown",
   "id": "a14d6253-4373-4a49-ab17-0c4ab3c2c5ab",
   "metadata": {},
   "source": [
    "Ex 49"
   ]
  },
  {
   "cell_type": "code",
   "execution_count": 163,
   "id": "bc0894b7-f21b-4e9e-8678-6cd5f08ff6c2",
   "metadata": {},
   "outputs": [
    {
     "name": "stdout",
     "output_type": "stream",
     "text": [
      "13\n"
     ]
    }
   ],
   "source": [
    "a = \"Hello, World!\"\n",
    "print(len(a))"
   ]
  },
  {
   "cell_type": "markdown",
   "id": "1d37e496-d138-405b-9e9f-8f0ae48ec4a3",
   "metadata": {},
   "source": [
    "Ex 50"
   ]
  },
  {
   "cell_type": "code",
   "execution_count": 166,
   "id": "6e4f517d-c871-442f-b0d9-a54ee8a6100f",
   "metadata": {},
   "outputs": [
    {
     "name": "stdout",
     "output_type": "stream",
     "text": [
      "True\n"
     ]
    }
   ],
   "source": [
    "txt = \"The best things in life are free!\"\n",
    "print(\"free\" in txt)"
   ]
  },
  {
   "cell_type": "markdown",
   "id": "b212a928-c146-4b2b-ac02-088b28f66825",
   "metadata": {},
   "source": [
    "Ex 51"
   ]
  },
  {
   "cell_type": "code",
   "execution_count": 169,
   "id": "7964cd06-1fff-48a4-8a3f-03d08b00fa3e",
   "metadata": {},
   "outputs": [
    {
     "name": "stdout",
     "output_type": "stream",
     "text": [
      "Yes, 'free' is present.\n"
     ]
    }
   ],
   "source": [
    "txt = \"The best things in life are free!\"\n",
    "if \"free\" in txt:\n",
    "    print(\"Yes, 'free' is present.\")"
   ]
  },
  {
   "cell_type": "markdown",
   "id": "e2f4eab9-51eb-4140-9bb8-883b2471ced1",
   "metadata": {},
   "source": [
    "Ex 52"
   ]
  },
  {
   "cell_type": "code",
   "execution_count": 172,
   "id": "d0d9fb15-f553-4f79-9811-4c95f0b844d3",
   "metadata": {},
   "outputs": [
    {
     "name": "stdout",
     "output_type": "stream",
     "text": [
      "True\n"
     ]
    }
   ],
   "source": [
    "txt = \"The best things in life are free!\"\n",
    "print(\"expensive\" not in txt)"
   ]
  },
  {
   "cell_type": "markdown",
   "id": "e78d45e8-612f-4614-a22e-a6ccf251fdb5",
   "metadata": {},
   "source": [
    "Ex 53\n"
   ]
  },
  {
   "cell_type": "code",
   "execution_count": 175,
   "id": "7a9dd253-a98c-4fa4-8c18-486cb9d5aa2f",
   "metadata": {},
   "outputs": [
    {
     "name": "stdout",
     "output_type": "stream",
     "text": [
      "No, 'expensive' is NOT present.\n"
     ]
    }
   ],
   "source": [
    "txt = \"The best things in life are free!\"\n",
    "if \"expensive\" not in txt:\n",
    "    print(\"No, 'expensive' is NOT present.\")"
   ]
  },
  {
   "cell_type": "markdown",
   "id": "93e8e53b-7e7b-4459-aac4-1b293239b657",
   "metadata": {},
   "source": [
    "Ex 54"
   ]
  },
  {
   "cell_type": "code",
   "execution_count": 178,
   "id": "2a290b20-d1e2-402f-a457-baf2f34833d2",
   "metadata": {},
   "outputs": [
    {
     "name": "stdout",
     "output_type": "stream",
     "text": [
      "llo\n"
     ]
    }
   ],
   "source": [
    "b = \"Hello, World!\"\n",
    "print(b[2:5])"
   ]
  },
  {
   "cell_type": "markdown",
   "id": "3ba2b9cc-cec4-4050-98c3-80fc0ac9e28a",
   "metadata": {},
   "source": [
    "Ex 55"
   ]
  },
  {
   "cell_type": "code",
   "execution_count": 181,
   "id": "10b2d651-bc17-4e2c-8e3f-5362b0161955",
   "metadata": {},
   "outputs": [
    {
     "name": "stdout",
     "output_type": "stream",
     "text": [
      "Hello\n"
     ]
    }
   ],
   "source": [
    "b = \"Hello, World!\"\n",
    "print(b[:5])"
   ]
  },
  {
   "cell_type": "markdown",
   "id": "683acf83-a9e7-410b-ba05-8a9c760847d8",
   "metadata": {},
   "source": [
    "Ex 56"
   ]
  },
  {
   "cell_type": "code",
   "execution_count": 184,
   "id": "dc21232a-7ab0-4f4b-8abb-d018078501a8",
   "metadata": {},
   "outputs": [
    {
     "name": "stdout",
     "output_type": "stream",
     "text": [
      "llo, World!\n"
     ]
    }
   ],
   "source": [
    "b = \"Hello, World!\"\n",
    "print(b[2:])"
   ]
  },
  {
   "cell_type": "markdown",
   "id": "6342787b-02e0-43f8-b6a6-c0522074c224",
   "metadata": {},
   "source": [
    "Ex 57"
   ]
  },
  {
   "cell_type": "code",
   "execution_count": 187,
   "id": "584e0df5-a964-4775-80bc-2eaa3026ea75",
   "metadata": {},
   "outputs": [
    {
     "name": "stdout",
     "output_type": "stream",
     "text": [
      "orl\n"
     ]
    }
   ],
   "source": [
    "b = \"Hello, World!\"\n",
    "print(b[-5:-2])"
   ]
  },
  {
   "cell_type": "markdown",
   "id": "afd97301-705c-4580-b54c-7a0103b9a483",
   "metadata": {},
   "source": [
    "Ex 58"
   ]
  },
  {
   "cell_type": "code",
   "execution_count": 190,
   "id": "10803bbe-4d21-448d-ad45-1fe409bc7fab",
   "metadata": {},
   "outputs": [
    {
     "name": "stdout",
     "output_type": "stream",
     "text": [
      "HELLO, WORLD!\n"
     ]
    }
   ],
   "source": [
    "a = \"Hello, World!\"\n",
    "print(a.upper())"
   ]
  },
  {
   "cell_type": "markdown",
   "id": "75d7aaa4-87a8-42ec-ac02-b97698ae0ab7",
   "metadata": {},
   "source": [
    "Ex 59"
   ]
  },
  {
   "cell_type": "code",
   "execution_count": 193,
   "id": "cd1e9968-53ad-4064-b3bf-b993a57ff5bc",
   "metadata": {},
   "outputs": [
    {
     "name": "stdout",
     "output_type": "stream",
     "text": [
      "hello, world!\n"
     ]
    }
   ],
   "source": [
    "a = \"Hello, World!\"\n",
    "print(a.lower())"
   ]
  },
  {
   "cell_type": "markdown",
   "id": "979659eb-2206-4300-9765-1436372cf871",
   "metadata": {},
   "source": [
    "Ex 60"
   ]
  },
  {
   "cell_type": "code",
   "execution_count": 196,
   "id": "d9414279-cd6c-48cc-9758-256bf96972e6",
   "metadata": {},
   "outputs": [
    {
     "name": "stdout",
     "output_type": "stream",
     "text": [
      "Hello, World!\n"
     ]
    }
   ],
   "source": [
    "a = \"Hello, World! \"\n",
    "print(a.strip()) # returns \"Hello, World!\""
   ]
  },
  {
   "cell_type": "markdown",
   "id": "2d30f4ed-364e-4409-8a96-a62013e92c1f",
   "metadata": {},
   "source": [
    "Ex 61"
   ]
  },
  {
   "cell_type": "code",
   "execution_count": 199,
   "id": "37cca610-9cbc-43d1-833f-538a0354ac0d",
   "metadata": {},
   "outputs": [
    {
     "name": "stdout",
     "output_type": "stream",
     "text": [
      "Jello, World!\n"
     ]
    }
   ],
   "source": [
    "a = \"Hello, World!\"\n",
    "print(a.replace(\"H\", \"J\"))"
   ]
  },
  {
   "cell_type": "markdown",
   "id": "f1578c5f-213d-429e-a344-e68bb1db6c08",
   "metadata": {},
   "source": [
    "ex 62"
   ]
  },
  {
   "cell_type": "code",
   "execution_count": 202,
   "id": "f0dbc049-6166-47c6-97aa-6a65adef3af1",
   "metadata": {},
   "outputs": [
    {
     "name": "stdout",
     "output_type": "stream",
     "text": [
      "['Hello', ' World!']\n"
     ]
    }
   ],
   "source": [
    "a = \"Hello, World!\"\n",
    "print(a.split(\",\")) # returns ['Hello', 'World!']"
   ]
  },
  {
   "cell_type": "markdown",
   "id": "31274937-d7f6-47ba-ba76-366de71d86c7",
   "metadata": {},
   "source": [
    "Ex 63"
   ]
  },
  {
   "cell_type": "code",
   "execution_count": 205,
   "id": "58166247-7eef-4681-81b9-8da40671a905",
   "metadata": {},
   "outputs": [
    {
     "name": "stdout",
     "output_type": "stream",
     "text": [
      "HelloWorld\n"
     ]
    }
   ],
   "source": [
    "a = \"Hello\"\n",
    "b = \"World\"\n",
    "c = a + b\n",
    "print(c)"
   ]
  },
  {
   "cell_type": "markdown",
   "id": "1cedfd91-9b25-4a1f-b874-2072d867b7ff",
   "metadata": {},
   "source": [
    "Ex 64"
   ]
  },
  {
   "cell_type": "code",
   "execution_count": 208,
   "id": "0c8f182f-2cd8-4042-938b-348b0bd58924",
   "metadata": {},
   "outputs": [
    {
     "name": "stdout",
     "output_type": "stream",
     "text": [
      "Hello World\n"
     ]
    }
   ],
   "source": [
    "a = \"Hello\"\n",
    "b = \"World\"\n",
    "c = a + \" \" + b\n",
    "print(c)"
   ]
  },
  {
   "cell_type": "markdown",
   "id": "b7676d6d-f977-4f08-9aa4-13c3d1c6498e",
   "metadata": {},
   "source": [
    "Ex 65"
   ]
  },
  {
   "cell_type": "code",
   "execution_count": 211,
   "id": "ed29f155-fb21-4d2b-b4e0-d609ea134a10",
   "metadata": {},
   "outputs": [
    {
     "name": "stdout",
     "output_type": "stream",
     "text": [
      "My name is John, I am 36\n"
     ]
    }
   ],
   "source": [
    "age = 36\n",
    "txt = f\"My name is John, I am {age}\"\n",
    "print(txt)"
   ]
  },
  {
   "cell_type": "markdown",
   "id": "673cafb1-3a10-49fe-a0a0-d7ae0160a420",
   "metadata": {},
   "source": [
    "Ex 66\n"
   ]
  },
  {
   "cell_type": "code",
   "execution_count": 214,
   "id": "06244eb3-7fe6-4618-9ea6-006743f56dd9",
   "metadata": {},
   "outputs": [
    {
     "name": "stdout",
     "output_type": "stream",
     "text": [
      "The price is 59 dollars\n"
     ]
    }
   ],
   "source": [
    "price = 59\n",
    "txt = f\"The price is {price} dollars\"\n",
    "print(txt)"
   ]
  },
  {
   "cell_type": "markdown",
   "id": "157850fe-ee30-45ea-9366-b23467e1618f",
   "metadata": {},
   "source": [
    "Ex 67"
   ]
  },
  {
   "cell_type": "code",
   "execution_count": 219,
   "id": "1774152e-54ee-4f4a-9c85-9a07bc73c9d3",
   "metadata": {},
   "outputs": [
    {
     "name": "stdout",
     "output_type": "stream",
     "text": [
      "The price is 59.00 dollars\n"
     ]
    }
   ],
   "source": [
    "price = 59\n",
    "txt = f\"The price is {price:.2f} dollars\"\n",
    "print(txt)"
   ]
  },
  {
   "cell_type": "markdown",
   "id": "0efd6b57-75c3-4c0c-aff9-0ce0175ad9d3",
   "metadata": {},
   "source": [
    "Ex 68"
   ]
  },
  {
   "cell_type": "code",
   "execution_count": 222,
   "id": "13a03b45-f26f-43d7-a90e-9655ddfacc03",
   "metadata": {},
   "outputs": [
    {
     "name": "stdout",
     "output_type": "stream",
     "text": [
      "The price is 1180 dollars\n"
     ]
    }
   ],
   "source": [
    "txt = f\"The price is {20 * 59} dollars\"\n",
    "print(txt)"
   ]
  },
  {
   "cell_type": "markdown",
   "id": "9fe454eb-e3b0-49e4-b1de-d53598611380",
   "metadata": {},
   "source": [
    "Ex 69"
   ]
  },
  {
   "cell_type": "code",
   "execution_count": 225,
   "id": "c919b7d0-58db-4615-bf2e-55d689cac33a",
   "metadata": {},
   "outputs": [],
   "source": [
    "txt = \"We are the so-called \\\"Vikings\\\" from the north.\""
   ]
  },
  {
   "cell_type": "markdown",
   "id": "98cdbc86-26fa-46ad-88bc-d38ecb8aa1b6",
   "metadata": {},
   "source": [
    "Ex 70"
   ]
  },
  {
   "cell_type": "code",
   "execution_count": null,
   "id": "aa473053-433f-4345-b885-3270a8a220bf",
   "metadata": {},
   "outputs": [],
   "source": []
  }
 ],
 "metadata": {
  "kernelspec": {
   "display_name": "anaconda-panel-2023.05-py310",
   "language": "python",
   "name": "conda-env-anaconda-panel-2023.05-py310-py"
  },
  "language_info": {
   "codemirror_mode": {
    "name": "ipython",
    "version": 3
   },
   "file_extension": ".py",
   "mimetype": "text/x-python",
   "name": "python",
   "nbconvert_exporter": "python",
   "pygments_lexer": "ipython3",
   "version": "3.11.5"
  }
 },
 "nbformat": 4,
 "nbformat_minor": 5
}
