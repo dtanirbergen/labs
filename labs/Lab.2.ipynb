{
 "cells": [
  {
   "cell_type": "markdown",
   "id": "74d5481c-b29f-4860-ae7f-c3c0af2f2804",
   "metadata": {},
   "source": [
    "Lab 2\n",
    "Ex 1\n",
    "Python Booleans"
   ]
  },
  {
   "cell_type": "markdown",
   "id": "94df9e22-bd2b-4d8e-89b6-5dee58d6db14",
   "metadata": {},
   "source": [
    "print(10 > 9 )\n",
    "print(10 == 9)\n",
    "print(10 < 9)"
   ]
  },
  {
   "cell_type": "markdown",
   "id": "4ed7fd8d-b9c5-4a2e-bf20-0354a53d27b1",
   "metadata": {},
   "source": [
    "Ex 2"
   ]
  },
  {
   "cell_type": "code",
   "execution_count": 8,
   "id": "032b07a6-7358-4d71-a283-c663ce0cf04b",
   "metadata": {},
   "outputs": [
    {
     "name": "stdout",
     "output_type": "stream",
     "text": [
      "b is not greater than a\n"
     ]
    }
   ],
   "source": [
    "a = 200\n",
    "b = 33\n",
    "\n",
    "if b > a:\n",
    "    print(\"b is greater than a \")\n",
    "else:\n",
    "    print(\"b is not greater than a\")"
   ]
  },
  {
   "cell_type": "markdown",
   "id": "4888945d-6980-435f-9aa8-5720e7145285",
   "metadata": {},
   "source": [
    "Ex 3"
   ]
  },
  {
   "cell_type": "code",
   "execution_count": 11,
   "id": "40be0d0c-28c8-4597-b7b8-eefc0f405dee",
   "metadata": {},
   "outputs": [
    {
     "name": "stdout",
     "output_type": "stream",
     "text": [
      "True\n",
      "True\n"
     ]
    }
   ],
   "source": [
    "print(bool(\"Hello\"))\n",
    "print(bool(15))"
   ]
  },
  {
   "cell_type": "markdown",
   "id": "2c1d640a-3e2d-4dbe-9192-8b50a77703de",
   "metadata": {},
   "source": [
    "Ex 4"
   ]
  },
  {
   "cell_type": "code",
   "execution_count": 14,
   "id": "7c2b48c6-7564-4a91-b0b9-afac98d84eda",
   "metadata": {},
   "outputs": [
    {
     "name": "stdout",
     "output_type": "stream",
     "text": [
      "True\n",
      "True\n"
     ]
    }
   ],
   "source": [
    "x = \"Hello\"\n",
    "y = 15\n",
    "\n",
    "print(bool(x))\n",
    "print(bool(y))"
   ]
  },
  {
   "cell_type": "markdown",
   "id": "01ce584a-7c27-4d9e-be73-e26be34b86e6",
   "metadata": {},
   "source": [
    "Ex 5"
   ]
  },
  {
   "cell_type": "code",
   "execution_count": 17,
   "id": "fe553037-41ef-4ef4-b93c-db51efcd385d",
   "metadata": {},
   "outputs": [
    {
     "data": {
      "text/plain": [
       "True"
      ]
     },
     "execution_count": 17,
     "metadata": {},
     "output_type": "execute_result"
    }
   ],
   "source": [
    "bool(\"abc\")\n",
    "bool(123)\n",
    "bool([\"apple\",\"cherry\",\"banana\"])"
   ]
  },
  {
   "cell_type": "markdown",
   "id": "b4ebeaf6-c82c-4aa7-ab62-a80a1ed8b60e",
   "metadata": {},
   "source": [
    "Ex 6"
   ]
  },
  {
   "cell_type": "code",
   "execution_count": 20,
   "id": "3e9354f5-eafc-4a8a-b61d-ffd866ec2a63",
   "metadata": {},
   "outputs": [
    {
     "data": {
      "text/plain": [
       "False"
      ]
     },
     "execution_count": 20,
     "metadata": {},
     "output_type": "execute_result"
    }
   ],
   "source": [
    "bool(False)\n",
    "bool(None)\n",
    "bool(0)\n",
    "bool(\"\")\n",
    "bool(())\n",
    "bool([])\n",
    "bool({})"
   ]
  },
  {
   "cell_type": "markdown",
   "id": "a4cf8373-3d46-4559-b850-ff31fbc64539",
   "metadata": {},
   "source": [
    "Ex 7"
   ]
  },
  {
   "cell_type": "code",
   "execution_count": 23,
   "id": "51e9ab7f-0bf5-4d81-a73b-ea7e95828d46",
   "metadata": {},
   "outputs": [
    {
     "name": "stdout",
     "output_type": "stream",
     "text": [
      "False\n"
     ]
    }
   ],
   "source": [
    "class myclass():\n",
    "    def __len__(self):\n",
    "        return 0\n",
    "\n",
    "myobj = myclass()\n",
    "print(bool(myobj))"
   ]
  },
  {
   "cell_type": "markdown",
   "id": "6d8a97e1-8a85-40ce-a6d3-c9f8566e3f4f",
   "metadata": {},
   "source": [
    "Ex 8\n"
   ]
  },
  {
   "cell_type": "code",
   "execution_count": 26,
   "id": "96db1273-8140-40a3-86ce-03f37d9a0cf0",
   "metadata": {},
   "outputs": [
    {
     "name": "stdout",
     "output_type": "stream",
     "text": [
      "True\n"
     ]
    }
   ],
   "source": [
    "def myFunction() :\n",
    "    return True\n",
    "\n",
    "print(myFunction())"
   ]
  },
  {
   "cell_type": "markdown",
   "id": "d061e5c9-5172-441c-a8d1-77983bac709d",
   "metadata": {},
   "source": [
    "Ex 9"
   ]
  },
  {
   "cell_type": "code",
   "execution_count": 29,
   "id": "1772eab2-5d76-41e6-90cf-c45565e5a762",
   "metadata": {},
   "outputs": [
    {
     "name": "stdout",
     "output_type": "stream",
     "text": [
      "YES!\n"
     ]
    }
   ],
   "source": [
    "def myFunction() :\n",
    "    return True\n",
    "\n",
    "if myFunction():\n",
    "    print(\"YES!\")\n",
    "else:\n",
    "    print(\"NO!\")"
   ]
  },
  {
   "cell_type": "markdown",
   "id": "6262d702-f609-4b3f-be9b-f5be7ae21359",
   "metadata": {},
   "source": [
    "Ex 10"
   ]
  },
  {
   "cell_type": "code",
   "execution_count": 32,
   "id": "e21febab-889b-4567-822b-25de1f53a4a5",
   "metadata": {},
   "outputs": [
    {
     "name": "stdout",
     "output_type": "stream",
     "text": [
      "True\n"
     ]
    }
   ],
   "source": [
    "x = 200\n",
    "print(isinstance(x, int))"
   ]
  },
  {
   "cell_type": "markdown",
   "id": "d0a689dd-a592-4c03-9c8f-4cd158eb7f39",
   "metadata": {},
   "source": [
    "Python Operators\n",
    "Ex 11"
   ]
  },
  {
   "cell_type": "code",
   "execution_count": 38,
   "id": "045a8f07-e89e-410e-95ac-14065e9057e0",
   "metadata": {},
   "outputs": [
    {
     "name": "stdout",
     "output_type": "stream",
     "text": [
      "15\n"
     ]
    }
   ],
   "source": [
    "print(10 + 5)"
   ]
  },
  {
   "cell_type": "markdown",
   "id": "ef15e7fc-9263-47e0-b6f4-6ea66607106e",
   "metadata": {},
   "source": [
    "Ex 12"
   ]
  },
  {
   "cell_type": "code",
   "execution_count": 41,
   "id": "71ffb057-f833-40c4-a79f-fc463dc4372e",
   "metadata": {},
   "outputs": [
    {
     "name": "stdout",
     "output_type": "stream",
     "text": [
      "0\n"
     ]
    }
   ],
   "source": [
    "print((6 + 3) - (6 + 3))"
   ]
  },
  {
   "cell_type": "markdown",
   "id": "14317bcd-0e1a-4f7f-b701-4ca79abf1d85",
   "metadata": {},
   "source": [
    "Ex 13"
   ]
  },
  {
   "cell_type": "code",
   "execution_count": 44,
   "id": "a147b6a9-6123-4863-8755-fcf744f9311a",
   "metadata": {},
   "outputs": [
    {
     "name": "stdout",
     "output_type": "stream",
     "text": [
      "115\n"
     ]
    }
   ],
   "source": [
    "print(100 + 5 * 3)"
   ]
  },
  {
   "cell_type": "markdown",
   "id": "d9c7b787-5fa8-409b-a81e-ab025f5d9b56",
   "metadata": {},
   "source": [
    "Ex 14"
   ]
  },
  {
   "cell_type": "code",
   "execution_count": 47,
   "id": "e8cb8b30-5641-489f-b095-24eed2ff050b",
   "metadata": {},
   "outputs": [
    {
     "name": "stdout",
     "output_type": "stream",
     "text": [
      "5\n"
     ]
    }
   ],
   "source": [
    "print(5 + 4 - 7 + 3)"
   ]
  },
  {
   "cell_type": "markdown",
   "id": "311bd624-4b6e-4a9f-82db-5cff1b5cfa95",
   "metadata": {},
   "source": [
    "Python Lists\n",
    "Ex 15"
   ]
  },
  {
   "cell_type": "code",
   "execution_count": 51,
   "id": "c736ff00-ba92-4cd3-a240-8402505d73e0",
   "metadata": {},
   "outputs": [],
   "source": [
    "mylist = [\"apple\",\"banana\",\"cherry\"]"
   ]
  },
  {
   "cell_type": "markdown",
   "id": "6f2bec26-eb06-4bfd-9d9e-629ad662850c",
   "metadata": {},
   "source": [
    "Ex 16"
   ]
  },
  {
   "cell_type": "code",
   "execution_count": 54,
   "id": "b872daa8-f97b-41dd-aeb6-02b12928c67f",
   "metadata": {},
   "outputs": [
    {
     "name": "stdout",
     "output_type": "stream",
     "text": [
      "['apple', 'banana', 'cherry']\n"
     ]
    }
   ],
   "source": [
    "thislist = [\"apple\", \"banana\", \"cherry\"]\n",
    "print(thislist)\n"
   ]
  },
  {
   "cell_type": "markdown",
   "id": "f44794ac-40c8-4d4b-8708-31e389c31e9b",
   "metadata": {},
   "source": [
    "Ex 17"
   ]
  },
  {
   "cell_type": "code",
   "execution_count": 57,
   "id": "6fe839d9-b88b-411b-af32-faef908c40f1",
   "metadata": {},
   "outputs": [
    {
     "name": "stdout",
     "output_type": "stream",
     "text": [
      "['apple', 'banana', 'cherry', 'apple', 'cherry']\n"
     ]
    }
   ],
   "source": [
    "thislist = ['apple', 'banana', 'cherry', 'apple', 'cherry']\n",
    "print(thislist)"
   ]
  },
  {
   "cell_type": "markdown",
   "id": "4509efc3-c60c-4f05-a304-0463e8c128b7",
   "metadata": {},
   "source": [
    "Ex 18 "
   ]
  },
  {
   "cell_type": "code",
   "execution_count": 60,
   "id": "3cd3816d-b925-4e75-831b-9f81bdbea20d",
   "metadata": {},
   "outputs": [
    {
     "name": "stdout",
     "output_type": "stream",
     "text": [
      "3\n"
     ]
    }
   ],
   "source": [
    "thislist = ['apple', 'banana', 'cherry']\n",
    "print(len(thislist))"
   ]
  },
  {
   "cell_type": "markdown",
   "id": "8fd61fe4-fc86-4ebe-8125-93c8fe49ac61",
   "metadata": {},
   "source": [
    "Ex 19"
   ]
  },
  {
   "cell_type": "code",
   "execution_count": 63,
   "id": "87b34116-d74a-4bdf-9f31-dc0d1b4cee8b",
   "metadata": {},
   "outputs": [],
   "source": [
    "list1 = ['apple', 'banana', 'cherry']\n",
    "list2 = [1, 5, 7, 9, 3]\n",
    "list3 = [True, False, False]"
   ]
  },
  {
   "cell_type": "markdown",
   "id": "85b74daf-03c8-49f6-9594-d367003136c2",
   "metadata": {},
   "source": [
    "Ex 20"
   ]
  },
  {
   "cell_type": "code",
   "execution_count": 66,
   "id": "96d4cf4c-39ae-4371-9a6f-97dc38fba24b",
   "metadata": {},
   "outputs": [],
   "source": [
    "list1 = ['abc', 34, True, 40, 'male']"
   ]
  },
  {
   "cell_type": "markdown",
   "id": "815c3907-4a48-4609-aae9-e5d71043a40a",
   "metadata": {},
   "source": [
    "Ex 21"
   ]
  },
  {
   "cell_type": "code",
   "execution_count": 69,
   "id": "2c1bf174-2b74-4868-b2f8-a841ccf6bced",
   "metadata": {},
   "outputs": [
    {
     "name": "stdout",
     "output_type": "stream",
     "text": [
      "<class 'list'>\n"
     ]
    }
   ],
   "source": [
    "mylist = ['apple', 'banana', 'cherry']\n",
    "print(type(mylist))"
   ]
  },
  {
   "cell_type": "markdown",
   "id": "f5702ee6-ee76-4a7b-a31c-413b8018e15c",
   "metadata": {},
   "source": [
    "Ex 22\n"
   ]
  },
  {
   "cell_type": "code",
   "execution_count": 72,
   "id": "3e5cf14e-09c1-47ec-aaa8-716b908deb4f",
   "metadata": {},
   "outputs": [
    {
     "name": "stdout",
     "output_type": "stream",
     "text": [
      "['apple', 'banana', 'cherry']\n"
     ]
    }
   ],
   "source": [
    "thislist = list(('apple','banana', 'cherry')) # note the double round-brackets\n",
    "print(thislist)"
   ]
  },
  {
   "cell_type": "markdown",
   "id": "312d89b7-086d-4b43-b694-4a8f7fda69ad",
   "metadata": {},
   "source": [
    "Ex 23"
   ]
  },
  {
   "cell_type": "code",
   "execution_count": 77,
   "id": "da8b1f44-b9c2-471a-9212-71989f47b8d4",
   "metadata": {},
   "outputs": [
    {
     "name": "stdout",
     "output_type": "stream",
     "text": [
      "banana\n"
     ]
    }
   ],
   "source": [
    "thislist = ['apple', 'banana', 'cherry']\n",
    "print(thislist[1])\n"
   ]
  },
  {
   "cell_type": "markdown",
   "id": "7bf49ba1-eabb-4f99-9f66-59ea607105b3",
   "metadata": {},
   "source": [
    "Ex 24"
   ]
  },
  {
   "cell_type": "code",
   "execution_count": 80,
   "id": "8ca1aabf-cfe6-4652-8156-c36cb03ba19a",
   "metadata": {},
   "outputs": [
    {
     "name": "stdout",
     "output_type": "stream",
     "text": [
      "cherry\n"
     ]
    }
   ],
   "source": [
    "thislist = ['apple', 'banana', 'cherry']\n",
    "print(thislist[-1])\n"
   ]
  },
  {
   "cell_type": "markdown",
   "id": "75ac729e-8db9-4c07-bd5c-2c66a835bb12",
   "metadata": {},
   "source": [
    "Ex 25"
   ]
  },
  {
   "cell_type": "code",
   "execution_count": 83,
   "id": "6ca4e63f-8f43-400a-bacb-95a57018e5b6",
   "metadata": {},
   "outputs": [
    {
     "name": "stdout",
     "output_type": "stream",
     "text": [
      "['cherry', 'orange', 'kiwi']\n"
     ]
    }
   ],
   "source": [
    "thislist = ['apple', 'banana', 'cherry','orange', 'kiwi', 'melon', 'mango']\n",
    "print(thislist[2:5])\n"
   ]
  },
  {
   "cell_type": "markdown",
   "id": "a5220ea9-69cc-4c76-8fec-25fbd55ac5c7",
   "metadata": {},
   "source": [
    "Ex 26"
   ]
  },
  {
   "cell_type": "code",
   "execution_count": 86,
   "id": "b89c499a-5aae-49be-ac03-b34e5c7588f8",
   "metadata": {},
   "outputs": [
    {
     "name": "stdout",
     "output_type": "stream",
     "text": [
      "['apple', 'banana', 'cherry', 'orange']\n"
     ]
    }
   ],
   "source": [
    "thislist = ['apple', 'banana', 'cherry','orange', 'kiwi', 'melon', 'mango']\n",
    "print(thislist[:4])\n",
    "\n"
   ]
  },
  {
   "cell_type": "markdown",
   "id": "ef263bda-8191-49af-9359-9062b16a63bd",
   "metadata": {},
   "source": [
    "Ex 27"
   ]
  },
  {
   "cell_type": "code",
   "execution_count": 89,
   "id": "60ef6d97-8616-489d-8840-5b643ed07966",
   "metadata": {},
   "outputs": [
    {
     "name": "stdout",
     "output_type": "stream",
     "text": [
      "['cherry', 'orange', 'kiwi', 'melon', 'mango']\n"
     ]
    }
   ],
   "source": [
    "thislist = ['apple', 'banana', 'cherry','orange', 'kiwi', 'melon', 'mango']\n",
    "print(thislist[2:])\n"
   ]
  },
  {
   "cell_type": "markdown",
   "id": "cc6103fe-d07c-4b68-8861-9716c5301217",
   "metadata": {},
   "source": [
    "Ex 28"
   ]
  },
  {
   "cell_type": "code",
   "execution_count": 92,
   "id": "d170881c-36c2-404b-9f1a-5766738a5e27",
   "metadata": {},
   "outputs": [
    {
     "name": "stdout",
     "output_type": "stream",
     "text": [
      "['orange', 'kiwi', 'melon']\n"
     ]
    }
   ],
   "source": [
    "thislist = ['apple', 'banana', 'cherry','orange', 'kiwi', 'melon', 'mango']\n",
    "print(thislist[-4:-1])\n"
   ]
  },
  {
   "cell_type": "markdown",
   "id": "fa84b987-b10d-4dcb-8650-1479c90345fe",
   "metadata": {},
   "source": [
    "Ex 29"
   ]
  },
  {
   "cell_type": "code",
   "execution_count": 97,
   "id": "fb311c60-9195-441c-b414-b8360b2fe760",
   "metadata": {},
   "outputs": [
    {
     "name": "stdout",
     "output_type": "stream",
     "text": [
      "Yes, 'apple' is in the fruits list\n"
     ]
    }
   ],
   "source": [
    "thislist = ['apple', 'banana', 'cherry']\n",
    "if 'apple' in thislist:\n",
    "    print(\"Yes, 'apple' is in the fruits list\")"
   ]
  },
  {
   "cell_type": "markdown",
   "id": "8df5b798-330a-4a4f-88a2-0cd7f104b13d",
   "metadata": {},
   "source": [
    "Ex 30"
   ]
  },
  {
   "cell_type": "code",
   "execution_count": 100,
   "id": "7d46bc6c-d3db-42df-a9b7-4d842b67a0c3",
   "metadata": {},
   "outputs": [
    {
     "name": "stdout",
     "output_type": "stream",
     "text": [
      "['apple', 'blackcurrant', 'cherry']\n"
     ]
    }
   ],
   "source": [
    "thislist = [\"apple\", \"banana\", \"cherry\"]\n",
    "thislist[1] = \"blackcurrant\"\n",
    "print(thislist)"
   ]
  },
  {
   "cell_type": "markdown",
   "id": "fb93765f-9416-40e8-8fb7-e2eb136424e8",
   "metadata": {},
   "source": [
    "Ex 31"
   ]
  },
  {
   "cell_type": "code",
   "execution_count": 103,
   "id": "140a60c9-89db-4ae8-a944-a71fe9ccdc9a",
   "metadata": {},
   "outputs": [
    {
     "name": "stdout",
     "output_type": "stream",
     "text": [
      "['apple', 'blackcurrant', 'watermelon', 'orange', 'kiwi', 'mango']\n"
     ]
    }
   ],
   "source": [
    "thislist = ['apple','banana', 'cherry', 'orange','kiwi','mango']\n",
    "thislist[1:3] = ['blackcurrant', 'watermelon']\n",
    "print(thislist)"
   ]
  },
  {
   "cell_type": "markdown",
   "id": "1db8ec0f-fdae-41e8-99b8-8928371b1f05",
   "metadata": {},
   "source": [
    "Ex 32"
   ]
  },
  {
   "cell_type": "code",
   "execution_count": 106,
   "id": "117a5fe6-c61c-401c-9878-3461d049a3ea",
   "metadata": {},
   "outputs": [
    {
     "name": "stdout",
     "output_type": "stream",
     "text": [
      "['apple', 'blackcurrant', 'watermelon', 'cherry']\n"
     ]
    }
   ],
   "source": [
    "thislist = [\"apple\", \"banana\", \"cherry\"]\n",
    "thislist[1:2] = [\"blackcurrant\", \"watermelon\"]\n",
    "print(thislist)"
   ]
  },
  {
   "cell_type": "markdown",
   "id": "c4873bf0-a096-4174-b973-b9ac4fc8fc18",
   "metadata": {},
   "source": [
    "Ex 33"
   ]
  },
  {
   "cell_type": "code",
   "execution_count": 109,
   "id": "4d515c53-b734-4d7b-b712-e490966948d2",
   "metadata": {},
   "outputs": [
    {
     "name": "stdout",
     "output_type": "stream",
     "text": [
      "['apple', 'watermelon']\n"
     ]
    }
   ],
   "source": [
    "thislist = [\"apple\", \"banana\", \"cherry\"]\n",
    "thislist[1:3] = [\"watermelon\"]\n",
    "print(thislist)"
   ]
  },
  {
   "cell_type": "markdown",
   "id": "018c6d35-4174-4acc-8213-f36c03f43d89",
   "metadata": {},
   "source": [
    "Ex 34"
   ]
  },
  {
   "cell_type": "code",
   "execution_count": 112,
   "id": "7a3f0c01-d039-4dc5-90a3-36c6c5fb757f",
   "metadata": {},
   "outputs": [
    {
     "name": "stdout",
     "output_type": "stream",
     "text": [
      "['apple', 'banana', 'watermelon', 'cherry']\n"
     ]
    }
   ],
   "source": [
    "thislist = ['apple', 'banana', 'cherry']\n",
    "thislist.insert(2, 'watermelon')\n",
    "print(thislist)"
   ]
  },
  {
   "cell_type": "markdown",
   "id": "ab055b8a-e086-40b1-9147-0357f92a0d68",
   "metadata": {},
   "source": [
    "Ex 35"
   ]
  },
  {
   "cell_type": "code",
   "execution_count": 115,
   "id": "c3d629e6-3b05-4e72-8bf5-03e861b3a1cf",
   "metadata": {},
   "outputs": [
    {
     "name": "stdout",
     "output_type": "stream",
     "text": [
      "['apple', 'banana', 'cherry', 'orange']\n"
     ]
    }
   ],
   "source": [
    "thislist = ['apple', 'banana', 'cherry']\n",
    "thislist.append('orange')\n",
    "print(thislist)"
   ]
  },
  {
   "cell_type": "markdown",
   "id": "5f1db25c-93a2-4cd7-86eb-43060e5cfec8",
   "metadata": {},
   "source": [
    "Ex 36"
   ]
  },
  {
   "cell_type": "code",
   "execution_count": 118,
   "id": "1dfc5a11-b2c5-4813-a70c-3714b6c97220",
   "metadata": {},
   "outputs": [
    {
     "name": "stdout",
     "output_type": "stream",
     "text": [
      "['apple', 'orange', 'banana', 'cherry']\n"
     ]
    }
   ],
   "source": [
    "thislist = ['apple', 'banana', 'cherry']\n",
    "thislist.insert(1, 'orange')\n",
    "print(thislist)\n"
   ]
  },
  {
   "cell_type": "markdown",
   "id": "8a43d62c-562e-405e-a81e-4fb7f2c9d918",
   "metadata": {},
   "source": [
    "Ex 37"
   ]
  },
  {
   "cell_type": "code",
   "execution_count": 121,
   "id": "ca0a81f4-e56a-4577-ba4c-669e4ca4d355",
   "metadata": {},
   "outputs": [
    {
     "name": "stdout",
     "output_type": "stream",
     "text": [
      "['apple', 'banana', 'cherry', 'mango', 'pineapple', 'papaya']\n"
     ]
    }
   ],
   "source": [
    "thislist = ['apple', 'banana', 'cherry']\n",
    "tropical = ['mango', 'pineapple', 'papaya']\n",
    "thislist.extend(tropical)\n",
    "print(thislist)"
   ]
  },
  {
   "cell_type": "markdown",
   "id": "43a3f546-eaa2-4dc1-b69a-5b2d6057672a",
   "metadata": {},
   "source": [
    "Ex 38"
   ]
  },
  {
   "cell_type": "code",
   "execution_count": 124,
   "id": "d2af393c-47fe-46a7-9efe-c1ef61a4be70",
   "metadata": {},
   "outputs": [
    {
     "name": "stdout",
     "output_type": "stream",
     "text": [
      "['apple', 'banana', 'cherry', 'kiwi', 'orange']\n"
     ]
    }
   ],
   "source": [
    "thislist = ['apple', 'banana', 'cherry']\n",
    "thistuple = ['kiwi', 'orange']\n",
    "thislist.extend(thistuple)\n",
    "print(thislist)"
   ]
  },
  {
   "cell_type": "markdown",
   "id": "2eb3d7f3-9bdb-413d-b6ac-de9023e2027b",
   "metadata": {},
   "source": [
    "Ex 39"
   ]
  },
  {
   "cell_type": "code",
   "execution_count": 127,
   "id": "a80223e0-7aa3-4e31-b589-1f073e2f9dc9",
   "metadata": {},
   "outputs": [
    {
     "name": "stdout",
     "output_type": "stream",
     "text": [
      "['apple', 'cherry']\n"
     ]
    }
   ],
   "source": [
    "thislist = ['apple', 'banana','cherry']\n",
    "thislist.remove('banana')\n",
    "print(thislist)"
   ]
  },
  {
   "cell_type": "markdown",
   "id": "cf17d269-ddab-43d1-a7ee-1dcaf1fb263c",
   "metadata": {},
   "source": [
    "Ex 40"
   ]
  },
  {
   "cell_type": "code",
   "execution_count": 130,
   "id": "9c2fc12d-2d41-40e3-81b0-b8e70eff52ad",
   "metadata": {},
   "outputs": [
    {
     "name": "stdout",
     "output_type": "stream",
     "text": [
      "['apple', 'cherry', 'banana', 'kiwi']\n"
     ]
    }
   ],
   "source": [
    "thislist = ['apple', 'banana', 'cherry', 'banana', 'kiwi']\n",
    "thislist.remove('banana')\n",
    "print(thislist)"
   ]
  },
  {
   "cell_type": "markdown",
   "id": "35887502-e1fd-4366-bd49-82d5085fb81c",
   "metadata": {},
   "source": [
    "Ex 41"
   ]
  },
  {
   "cell_type": "code",
   "execution_count": 133,
   "id": "8d4baffa-ea15-4ffe-8bf5-8b016d754705",
   "metadata": {},
   "outputs": [
    {
     "name": "stdout",
     "output_type": "stream",
     "text": [
      "['apple', 'cherry']\n"
     ]
    }
   ],
   "source": [
    "thislist = ['apple', 'banana', 'cherry']\n",
    "thislist.pop(1)\n",
    "print(thislist)"
   ]
  },
  {
   "cell_type": "markdown",
   "id": "930db407-2f51-44fc-83fb-be74e393b9e5",
   "metadata": {},
   "source": [
    "Ex 42"
   ]
  },
  {
   "cell_type": "code",
   "execution_count": 136,
   "id": "231b24bf-2669-415c-82c2-7cfcca5fcd13",
   "metadata": {},
   "outputs": [
    {
     "name": "stdout",
     "output_type": "stream",
     "text": [
      "['apple', 'banana']\n"
     ]
    }
   ],
   "source": [
    "thislist = ['apple', 'banana', 'cherry']\n",
    "thislist.pop()\n",
    "print(thislist)"
   ]
  },
  {
   "cell_type": "markdown",
   "id": "858e5a26-101f-459a-8a11-c7cc27ec3b9c",
   "metadata": {},
   "source": [
    "Ex 43"
   ]
  },
  {
   "cell_type": "code",
   "execution_count": 146,
   "id": "da4a3d61-6763-43e4-8834-6676bb620226",
   "metadata": {},
   "outputs": [
    {
     "name": "stdout",
     "output_type": "stream",
     "text": [
      "['banana', 'cherry']\n"
     ]
    }
   ],
   "source": [
    "thislist = [\"apple\", \"banana\", \"cherry\"]\n",
    "del thislist[0]\n",
    "print(thislist)"
   ]
  },
  {
   "cell_type": "markdown",
   "id": "93d2ae68-b4d8-4fcd-9138-aae21450f131",
   "metadata": {},
   "source": [
    "Ex 44"
   ]
  },
  {
   "cell_type": "code",
   "execution_count": 151,
   "id": "6c560586-9fe2-4ac6-918e-a67624fd085c",
   "metadata": {},
   "outputs": [],
   "source": [
    "thislist = [\"apple\", \"banana\", \"cherry\"]\n",
    "del thislist\n"
   ]
  },
  {
   "cell_type": "markdown",
   "id": "67e33219-ffe2-4276-bc7c-90d42e4e58f2",
   "metadata": {},
   "source": [
    "Ex 45"
   ]
  },
  {
   "cell_type": "code",
   "execution_count": 158,
   "id": "1581bab6-086c-4e55-938a-8018ecd083e4",
   "metadata": {},
   "outputs": [
    {
     "name": "stdout",
     "output_type": "stream",
     "text": [
      "[]\n"
     ]
    }
   ],
   "source": [
    "thislist = [\"apple\", \"banana\", \"cherry\"]\n",
    "thislist.clear()\n",
    "print(thislist)"
   ]
  },
  {
   "cell_type": "markdown",
   "id": "dfba7056-3404-4699-bdd6-d7a144c74695",
   "metadata": {},
   "source": [
    "Ex 46"
   ]
  },
  {
   "cell_type": "code",
   "execution_count": 161,
   "id": "e458f902-c298-44f6-b54b-e899f13eacf3",
   "metadata": {},
   "outputs": [
    {
     "name": "stdout",
     "output_type": "stream",
     "text": [
      "apple\n",
      "banana\n",
      "cherry\n"
     ]
    }
   ],
   "source": [
    "thislist = [\"apple\", \"banana\", \"cherry\"]\n",
    "for x in thislist:\n",
    "    print(x)"
   ]
  },
  {
   "cell_type": "markdown",
   "id": "724f7560-05b1-4bfa-ae36-2f7ef27421fc",
   "metadata": {},
   "source": [
    "Ex 47"
   ]
  },
  {
   "cell_type": "code",
   "execution_count": 164,
   "id": "d2fa0747-7e02-4eaa-9c35-8b87277cce73",
   "metadata": {},
   "outputs": [
    {
     "name": "stdout",
     "output_type": "stream",
     "text": [
      "apple\n",
      "banana\n",
      "cherry\n"
     ]
    }
   ],
   "source": [
    "thislist = [\"apple\", \"banana\", \"cherry\"]\n",
    "for i in range(len(thislist)):\n",
    "    print(thislist[i])"
   ]
  },
  {
   "cell_type": "markdown",
   "id": "fb330c49-a570-47da-b959-c827486e77d2",
   "metadata": {},
   "source": [
    "Ex 48"
   ]
  },
  {
   "cell_type": "code",
   "execution_count": 171,
   "id": "e92fb19c-bca1-47ad-83a8-541a897351cd",
   "metadata": {},
   "outputs": [
    {
     "name": "stdout",
     "output_type": "stream",
     "text": [
      "apple\n",
      "banana\n",
      "cherry\n"
     ]
    }
   ],
   "source": [
    "thislist = [\"apple\", \"banana\", \"cherry\"]\n",
    "i = 0\n",
    "while i < len(thislist):\n",
    "    print(thislist[i])\n",
    "    i = i + 1"
   ]
  },
  {
   "cell_type": "markdown",
   "id": "9a94cd3c-799b-497c-854a-b2d621b28594",
   "metadata": {},
   "source": [
    "Ex 49"
   ]
  },
  {
   "cell_type": "code",
   "execution_count": 174,
   "id": "f38f1638-308a-4c87-890e-04d2bba888fd",
   "metadata": {},
   "outputs": [
    {
     "name": "stdout",
     "output_type": "stream",
     "text": [
      "apple\n",
      "banana\n",
      "cherry\n"
     ]
    },
    {
     "data": {
      "text/plain": [
       "[None, None, None]"
      ]
     },
     "execution_count": 174,
     "metadata": {},
     "output_type": "execute_result"
    }
   ],
   "source": [
    "thislist = [\"apple\", \"banana\", \"cherry\"]\n",
    "[print(x) for x in thislist]"
   ]
  },
  {
   "cell_type": "markdown",
   "id": "cdeef0cd-d770-49c5-87de-6914b0ea613c",
   "metadata": {},
   "source": [
    "Ex 50"
   ]
  },
  {
   "cell_type": "code",
   "execution_count": 177,
   "id": "29180e6a-fca7-4e47-a931-2a8b2349941e",
   "metadata": {},
   "outputs": [
    {
     "name": "stdout",
     "output_type": "stream",
     "text": [
      "['apple', 'banana', 'mango']\n"
     ]
    }
   ],
   "source": [
    "fruits = [\"apple\" ,\"banana\", \"cherry\", \"kiwi\", \"mango\"]\n",
    "newlist = []\n",
    "\n",
    "for x in fruits:\n",
    "    if \"a\" in x:\n",
    "        newlist.append(x)\n",
    "\n",
    "print(newlist)"
   ]
  },
  {
   "cell_type": "markdown",
   "id": "f004204c-41e5-49e4-a657-e017f4dc6487",
   "metadata": {},
   "source": [
    "Ex 51"
   ]
  },
  {
   "cell_type": "code",
   "execution_count": 180,
   "id": "3aa87e0d-deb0-4609-81b4-7cec68f94200",
   "metadata": {},
   "outputs": [
    {
     "name": "stdout",
     "output_type": "stream",
     "text": [
      "['apple', 'banana', 'mango']\n"
     ]
    }
   ],
   "source": [
    "fruits = [\"apple\" ,\"banana\", \"cherry\", \"kiwi\", \"mango\"]\n",
    "newlist = [x for x in fruits if \"a\" in x]\n",
    "print(newlist)"
   ]
  },
  {
   "cell_type": "markdown",
   "id": "5cac340f-f4f6-4766-b73b-733bfe850739",
   "metadata": {},
   "source": [
    "Ex 52"
   ]
  },
  {
   "cell_type": "code",
   "execution_count": 183,
   "id": "b70afc85-2f62-4065-8566-5bbc1138d82a",
   "metadata": {},
   "outputs": [],
   "source": [
    "newlist = [x for x in fruits if x != \"apple\"]"
   ]
  },
  {
   "cell_type": "markdown",
   "id": "7dc0335e-9098-426b-9d73-ab59f9a059f5",
   "metadata": {},
   "source": [
    "Ex 53\n"
   ]
  },
  {
   "cell_type": "code",
   "execution_count": 186,
   "id": "2f62292e-594f-47a3-96bb-2780908ceec4",
   "metadata": {},
   "outputs": [],
   "source": [
    "newlist = [x for x in fruits]"
   ]
  },
  {
   "cell_type": "markdown",
   "id": "280ba5ec-7c15-43c0-a059-0188a27dead2",
   "metadata": {},
   "source": [
    "Ex 54"
   ]
  },
  {
   "cell_type": "code",
   "execution_count": 189,
   "id": "99d2267c-45fa-4520-9d01-d93580893216",
   "metadata": {},
   "outputs": [],
   "source": [
    "newlist = [x for x in range(10)]"
   ]
  },
  {
   "cell_type": "markdown",
   "id": "acaba43a-292d-47d7-8bf5-90de69c9cbdb",
   "metadata": {},
   "source": [
    "Ex 55"
   ]
  },
  {
   "cell_type": "code",
   "execution_count": 192,
   "id": "dd23ff10-5ec3-4567-9904-47272bb8cd2c",
   "metadata": {},
   "outputs": [],
   "source": [
    "newlist = [x for x in range(10) if x < 5]"
   ]
  },
  {
   "cell_type": "markdown",
   "id": "e5b1a61a-68fc-45f1-81d7-954b9be4f9fb",
   "metadata": {},
   "source": [
    "Ex 56"
   ]
  },
  {
   "cell_type": "code",
   "execution_count": 195,
   "id": "37673a34-a89b-4331-86a0-9fc40f212374",
   "metadata": {},
   "outputs": [],
   "source": [
    "newlist = [x.upper() for x in fruits]"
   ]
  },
  {
   "cell_type": "markdown",
   "id": "e17de064-ed5d-47ba-b904-de6f48cc77c6",
   "metadata": {},
   "source": [
    "Ex 57"
   ]
  },
  {
   "cell_type": "code",
   "execution_count": 198,
   "id": "2a34450b-3e5b-4bd2-9e6e-8752ea7f3898",
   "metadata": {},
   "outputs": [],
   "source": [
    "newlist = ['hello' for x in fruits]"
   ]
  },
  {
   "cell_type": "markdown",
   "id": "54f9273f-4278-4425-9e28-e3650d0e3b9d",
   "metadata": {},
   "source": [
    "Ex 58"
   ]
  },
  {
   "cell_type": "code",
   "execution_count": 201,
   "id": "dcf3b06c-beef-4f3a-8351-d76f92ead1ac",
   "metadata": {},
   "outputs": [],
   "source": [
    "newlist = [x if x != \"banana\" else \"orange\" for x in fruits]"
   ]
  },
  {
   "cell_type": "markdown",
   "id": "926ea7ed-69d9-4f2b-93aa-ba73c11b1c34",
   "metadata": {},
   "source": [
    "Ex 59"
   ]
  },
  {
   "cell_type": "code",
   "execution_count": 206,
   "id": "83b97f95-f52a-4c32-9e45-20e44502872e",
   "metadata": {},
   "outputs": [
    {
     "name": "stdout",
     "output_type": "stream",
     "text": [
      "['banana', 'kiwi', 'mango', 'orange', 'pineapple']\n"
     ]
    }
   ],
   "source": [
    "thislist = [\"orange\", \"mango\", \"kiwi\", \"pineapple\", \"banana\"]\n",
    "thislist.sort()\n",
    "print(thislist)"
   ]
  },
  {
   "cell_type": "markdown",
   "id": "749b0d38-cf51-45e9-a0b3-a078939fe168",
   "metadata": {},
   "source": [
    "Ex 60"
   ]
  },
  {
   "cell_type": "code",
   "execution_count": 209,
   "id": "5df27ea6-0014-42e5-a7c5-a589522baab4",
   "metadata": {},
   "outputs": [
    {
     "name": "stdout",
     "output_type": "stream",
     "text": [
      "[23, 50, 65, 82, 100]\n"
     ]
    }
   ],
   "source": [
    "thislist = [100, 50, 65, 82, 23]\n",
    "thislist.sort()\n",
    "print(thislist)"
   ]
  },
  {
   "cell_type": "markdown",
   "id": "fe73d29e-ec93-408f-a9be-02ab5249477d",
   "metadata": {},
   "source": [
    "Ex 61"
   ]
  },
  {
   "cell_type": "code",
   "execution_count": 212,
   "id": "2255bbfa-9772-46ad-9807-5de67d6303b6",
   "metadata": {},
   "outputs": [
    {
     "name": "stdout",
     "output_type": "stream",
     "text": [
      "['pineapple', 'orange', 'mango', 'kiwi', 'banana']\n"
     ]
    }
   ],
   "source": [
    "thislist = [\"orange\", \"mango\", \"kiwi\", \"pineapple\", \"banana\"]\n",
    "thislist.sort(reverse = True)\n",
    "print(thislist)"
   ]
  },
  {
   "cell_type": "markdown",
   "id": "24b3ea2d-d9bf-495d-9d7e-14dbc93c601d",
   "metadata": {},
   "source": [
    "Ex 62"
   ]
  },
  {
   "cell_type": "code",
   "execution_count": 216,
   "id": "5b9fa41a-9d22-4256-8caa-c1e5a4ad0f67",
   "metadata": {},
   "outputs": [
    {
     "name": "stdout",
     "output_type": "stream",
     "text": [
      "[100, 82, 65, 50, 23]\n"
     ]
    }
   ],
   "source": [
    "thislist = [100, 50, 65, 82, 23]\n",
    "thislist.sort(reverse = True)\n",
    "print(thislist)"
   ]
  },
  {
   "cell_type": "markdown",
   "id": "e8f6a42a-ce70-4b6e-83e5-9c2dc6899c99",
   "metadata": {},
   "source": [
    "Ex 63"
   ]
  },
  {
   "cell_type": "code",
   "execution_count": 219,
   "id": "eec61145-f751-48c3-9d7b-d150687944f0",
   "metadata": {},
   "outputs": [
    {
     "name": "stdout",
     "output_type": "stream",
     "text": [
      "[50, 56, 23, 82, 100]\n"
     ]
    }
   ],
   "source": [
    "def myfunc(n):\n",
    "    return abs(n - 50)\n",
    "\n",
    "thislist = [100, 50, 56, 82, 23]\n",
    "thislist.sort(key = myfunc)\n",
    "print(thislist)"
   ]
  },
  {
   "cell_type": "markdown",
   "id": "f1410d2e-36a7-4ec7-bdc5-a843bf91464d",
   "metadata": {},
   "source": [
    "Ex 64"
   ]
  },
  {
   "cell_type": "code",
   "execution_count": 222,
   "id": "bca0e8cc-e3ca-4a54-bd7e-c4eff55c15c2",
   "metadata": {},
   "outputs": [
    {
     "name": "stdout",
     "output_type": "stream",
     "text": [
      "['Kiwi', 'Orange', 'banana', 'cherry']\n"
     ]
    }
   ],
   "source": [
    "thislist = [\"banana\", \"Orange\", \"Kiwi\", \"cherry\"]\n",
    "thislist.sort()\n",
    "print(thislist)"
   ]
  },
  {
   "cell_type": "markdown",
   "id": "0ee85740-d197-47e0-94c0-109084426d6a",
   "metadata": {},
   "source": [
    "Ex 65"
   ]
  },
  {
   "cell_type": "code",
   "execution_count": 225,
   "id": "2c9787b9-527a-4952-8745-56a22cc54a65",
   "metadata": {},
   "outputs": [
    {
     "name": "stdout",
     "output_type": "stream",
     "text": [
      "['banana', 'cherry', 'Kiwi', 'Orange']\n"
     ]
    }
   ],
   "source": [
    "thislist = [\"banana\", \"Orange\", \"Kiwi\", \"cherry\"]\n",
    "thislist.sort(key = str.lower)\n",
    "print(thislist)"
   ]
  },
  {
   "cell_type": "markdown",
   "id": "bf188315-ba91-4bd4-abfd-3f4512a10d53",
   "metadata": {},
   "source": [
    "Ex 66"
   ]
  },
  {
   "cell_type": "code",
   "execution_count": 230,
   "id": "4fc6ba0f-26f4-4838-81aa-74eb5c824e8c",
   "metadata": {},
   "outputs": [
    {
     "name": "stdout",
     "output_type": "stream",
     "text": [
      "['cherry', 'Kiwi', 'Orange', 'banana']\n"
     ]
    }
   ],
   "source": [
    "thislist = [\"banana\", \"Orange\", \"Kiwi\", \"cherry\"]\n",
    "thislist.reverse()\n",
    "print(thislist)"
   ]
  },
  {
   "cell_type": "markdown",
   "id": "0dea1529-a4c2-4de6-836a-a1f4d1239b25",
   "metadata": {},
   "source": [
    "Ex 67"
   ]
  },
  {
   "cell_type": "code",
   "execution_count": 239,
   "id": "4aec933f-c18f-4d37-9526-6b740bf646ef",
   "metadata": {},
   "outputs": [
    {
     "name": "stdout",
     "output_type": "stream",
     "text": [
      "['apple', 'banana', 'cherry']\n"
     ]
    }
   ],
   "source": [
    "thislist = [\"apple\", \"banana\", \"cherry\"]\n",
    "mylist = thislist.copy()\n",
    "print(mylist)"
   ]
  },
  {
   "cell_type": "markdown",
   "id": "c9d94dd1-800b-4935-b380-fad2a2eafcb0",
   "metadata": {},
   "source": [
    "Ex 68"
   ]
  },
  {
   "cell_type": "code",
   "execution_count": 242,
   "id": "390449e8-df56-43c7-9239-2f608e97dc0c",
   "metadata": {},
   "outputs": [
    {
     "name": "stdout",
     "output_type": "stream",
     "text": [
      "['apple', 'banana', 'cherry']\n"
     ]
    }
   ],
   "source": [
    "thislist = [\"apple\", \"banana\", \"cherry\"]\n",
    "mylist = list(thislist)\n",
    "print(mylist)\n"
   ]
  },
  {
   "cell_type": "markdown",
   "id": "02c92827-14bf-4d97-8aad-0db38832609a",
   "metadata": {},
   "source": [
    "Ex 69"
   ]
  },
  {
   "cell_type": "code",
   "execution_count": 248,
   "id": "a482ac11-6c27-47c0-bb98-529257747156",
   "metadata": {},
   "outputs": [
    {
     "name": "stdout",
     "output_type": "stream",
     "text": [
      "['apple', 'banana', 'cherry']\n"
     ]
    }
   ],
   "source": [
    "thislist = [\"apple\", \"banana\", \"cherry\"]\n",
    "mylist = thislist[:]\n",
    "print(mylist)\n"
   ]
  },
  {
   "cell_type": "markdown",
   "id": "334adf9c-735c-4bc5-9713-eb902046692d",
   "metadata": {},
   "source": [
    "Ex 70"
   ]
  },
  {
   "cell_type": "code",
   "execution_count": 251,
   "id": "c36e2b48-fe3f-43b0-8449-900cd7261a73",
   "metadata": {},
   "outputs": [
    {
     "name": "stdout",
     "output_type": "stream",
     "text": [
      "['a', 'b', 'c', 1, 2, 3]\n"
     ]
    }
   ],
   "source": [
    "list1 = ['a','b','c']\n",
    "list2 = [1,2,3]\n",
    "\n",
    "list3 = list1 + list2\n",
    "print(list3)"
   ]
  },
  {
   "cell_type": "markdown",
   "id": "ef76e525-35eb-41fd-b0dd-8f03bc74f081",
   "metadata": {},
   "source": [
    "Ex 71"
   ]
  },
  {
   "cell_type": "code",
   "execution_count": 254,
   "id": "ee91a62b-97ac-473e-82fd-6076c581c528",
   "metadata": {},
   "outputs": [
    {
     "name": "stdout",
     "output_type": "stream",
     "text": [
      "['a', 'b', 'c', 1, 2, 3]\n"
     ]
    }
   ],
   "source": [
    "list1 = ['a','b','c']\n",
    "list2 = [1,2,3]\n",
    "\n",
    "for x in list2:\n",
    "    list1.append(x)\n",
    "\n",
    "print(list1)"
   ]
  },
  {
   "cell_type": "markdown",
   "id": "36d49ea7-d7ea-4818-a791-7b0dc98144db",
   "metadata": {},
   "source": [
    "Ex 72"
   ]
  },
  {
   "cell_type": "code",
   "execution_count": 257,
   "id": "fd198bfd-a99c-4eb4-b3e4-590b93704934",
   "metadata": {},
   "outputs": [
    {
     "name": "stdout",
     "output_type": "stream",
     "text": [
      "['a', 'b', 'c', 1, 2, 3, 1, 2, 3]\n"
     ]
    }
   ],
   "source": [
    "ist1 = ['a','b','c']\n",
    "list2 = [1,2,3]\n",
    "\n",
    "list1.extend(list2)\n",
    "print(list1)\n"
   ]
  },
  {
   "cell_type": "markdown",
   "id": "ad1b58da-2bf2-4cd2-8a5e-20f7b58939b2",
   "metadata": {},
   "source": [
    "Python Tuples Ex 73"
   ]
  },
  {
   "cell_type": "code",
   "execution_count": 262,
   "id": "c573731f-a9bd-4e00-be23-ea0cc51cc24f",
   "metadata": {},
   "outputs": [
    {
     "name": "stdout",
     "output_type": "stream",
     "text": [
      "('apple', 'banana', 'cherry')\n"
     ]
    }
   ],
   "source": [
    "thistuple = (\"apple\", \"banana\", \"cherry\")\n",
    "print(thistuple)"
   ]
  },
  {
   "cell_type": "markdown",
   "id": "133f53e5-6657-4150-bc22-42b0878d8961",
   "metadata": {},
   "source": [
    "Ex 74"
   ]
  },
  {
   "cell_type": "code",
   "execution_count": 265,
   "id": "b9b68df4-bf7f-47ed-b944-28abc42b163f",
   "metadata": {},
   "outputs": [
    {
     "name": "stdout",
     "output_type": "stream",
     "text": [
      "('apple', 'banana', 'cherry', 'apple', 'cherry')\n"
     ]
    }
   ],
   "source": [
    "thistuple = (\"apple\", \"banana\", \"cherry\", \"apple\", \"cherry\")\n",
    "print(thistuple)"
   ]
  },
  {
   "cell_type": "markdown",
   "id": "bf840a31-6023-4a38-be20-6058258420a3",
   "metadata": {},
   "source": [
    "Ex 75"
   ]
  },
  {
   "cell_type": "code",
   "execution_count": 268,
   "id": "770ff52f-d22d-4b73-bdf1-2c0f043f80e0",
   "metadata": {},
   "outputs": [
    {
     "name": "stdout",
     "output_type": "stream",
     "text": [
      "3\n"
     ]
    }
   ],
   "source": [
    "thistuple = (\"apple\", \"banana\", \"cherry\")\n",
    "print(len(thistuple))"
   ]
  },
  {
   "cell_type": "markdown",
   "id": "20afb830-2f9c-4b79-a725-c7182c7827e9",
   "metadata": {},
   "source": [
    "Ex 76"
   ]
  },
  {
   "cell_type": "markdown",
   "id": "28b558c9-5102-4964-a975-b214faba1805",
   "metadata": {},
   "source": [
    "thistuple = (\"apple\",)\n",
    "print(type(thistuple))\n",
    "\n",
    "#NOT a tuple\n",
    "thistuple = (\"apple\")\n",
    "print(type(thistuple))"
   ]
  },
  {
   "cell_type": "markdown",
   "id": "0dd21474-55ef-47b7-bcca-754c86afd80c",
   "metadata": {},
   "source": [
    "Ex 77"
   ]
  },
  {
   "cell_type": "code",
   "execution_count": 275,
   "id": "fd038948-28ae-4667-bb17-12ce2fc33f8e",
   "metadata": {},
   "outputs": [],
   "source": [
    "tupte1 = (\"apple\", \"banana\", \"cherry\")\n",
    "tuple2 = (1, 5, 7, 9, 3)\n",
    "tuple3 = (True, False, False)"
   ]
  },
  {
   "cell_type": "markdown",
   "id": "5cf7a3e7-c7f6-4ed7-8175-459db42e290c",
   "metadata": {},
   "source": [
    "Ex 78"
   ]
  },
  {
   "cell_type": "code",
   "execution_count": 278,
   "id": "3498a82a-91a6-4525-9d7a-8026bce5bfe8",
   "metadata": {},
   "outputs": [],
   "source": [
    "tuple  = (\"abc\", 34, True, 40, \"male\")"
   ]
  },
  {
   "cell_type": "markdown",
   "id": "a7f8ee05-3309-4468-b83f-cfec00025151",
   "metadata": {},
   "source": [
    "Ex 79"
   ]
  },
  {
   "cell_type": "code",
   "execution_count": 281,
   "id": "1b520278-a4f7-4402-8213-321669748b98",
   "metadata": {},
   "outputs": [
    {
     "name": "stdout",
     "output_type": "stream",
     "text": [
      "<class 'tuple'>\n"
     ]
    }
   ],
   "source": [
    "mytuple = (\"apple\", \"banana\", \"cherry\")\n",
    "print(type(mytuple))"
   ]
  },
  {
   "cell_type": "markdown",
   "id": "1ea8dd7a-3360-43ef-9f72-2e074a6c5ee5",
   "metadata": {},
   "source": [
    "Ex 80"
   ]
  },
  {
   "cell_type": "code",
   "execution_count": 313,
   "id": "eff8f293-6a27-48e8-8317-52e51692a910",
   "metadata": {},
   "outputs": [
    {
     "ename": "TypeError",
     "evalue": "'tuple' object is not callable",
     "output_type": "error",
     "traceback": [
      "\u001b[0;31m---------------------------------------------------------------------------\u001b[0m",
      "\u001b[0;31mTypeError\u001b[0m                                 Traceback (most recent call last)",
      "Cell \u001b[0;32mIn[313], line 1\u001b[0m\n\u001b[0;32m----> 1\u001b[0m thistuple \u001b[38;5;241m=\u001b[39m \u001b[38;5;28;43mtuple\u001b[39;49m\u001b[43m(\u001b[49m\u001b[43m(\u001b[49m\u001b[38;5;124;43m\"\u001b[39;49m\u001b[38;5;124;43mapple\u001b[39;49m\u001b[38;5;124;43m\"\u001b[39;49m\u001b[43m,\u001b[49m\u001b[43m \u001b[49m\u001b[38;5;124;43m\"\u001b[39;49m\u001b[38;5;124;43mbanana\u001b[39;49m\u001b[38;5;124;43m\"\u001b[39;49m\u001b[43m,\u001b[49m\u001b[43m \u001b[49m\u001b[38;5;124;43m\"\u001b[39;49m\u001b[38;5;124;43mcherry\u001b[39;49m\u001b[38;5;124;43m\"\u001b[39;49m\u001b[43m)\u001b[49m\u001b[43m)\u001b[49m \u001b[38;5;66;03m# note the double round-brackets\u001b[39;00m\n\u001b[1;32m      2\u001b[0m \u001b[38;5;28mprint\u001b[39m(thistuple)\n",
      "\u001b[0;31mTypeError\u001b[0m: 'tuple' object is not callable"
     ]
    }
   ],
   "source": [
    "thistuple = tuple((\"apple\", \"banana\", \"cherry\")) # note the double round-brackets\n",
    "print(thistuple)"
   ]
  },
  {
   "cell_type": "markdown",
   "id": "290e169f-58d6-4e83-927c-96c1cd0810cc",
   "metadata": {},
   "source": [
    "Ex 81"
   ]
  },
  {
   "cell_type": "code",
   "execution_count": 316,
   "id": "4d546024-5b33-4177-bd3c-8cf0c6b1293c",
   "metadata": {},
   "outputs": [
    {
     "name": "stdout",
     "output_type": "stream",
     "text": [
      "banana\n"
     ]
    }
   ],
   "source": [
    "thistuple = (\"apple\" , \"banana\" , \"cherry\")\n",
    "print(thistuple[1])"
   ]
  },
  {
   "cell_type": "markdown",
   "id": "47210237-581d-4cfd-98b3-d0ae395854fb",
   "metadata": {},
   "source": [
    "Ex 82"
   ]
  },
  {
   "cell_type": "code",
   "execution_count": 319,
   "id": "02e8457b-69d8-4e1d-af7f-1e592ba62d10",
   "metadata": {},
   "outputs": [
    {
     "name": "stdout",
     "output_type": "stream",
     "text": [
      "cherry\n"
     ]
    }
   ],
   "source": [
    "thistuple = (\"apple\", \"banana\", \"cherry\")\n",
    "print(thistuple[-1])"
   ]
  },
  {
   "cell_type": "markdown",
   "id": "7889a547-31e4-4a63-8230-2ea9ff2fa321",
   "metadata": {},
   "source": [
    "Ex 83"
   ]
  },
  {
   "cell_type": "code",
   "execution_count": 322,
   "id": "889b5278-b7ff-4cb5-9339-27a19ac353e6",
   "metadata": {},
   "outputs": [
    {
     "name": "stdout",
     "output_type": "stream",
     "text": [
      "('cherry', 'orange', 'kiwi')\n"
     ]
    }
   ],
   "source": [
    "thistuple = (\"apple\", \"banana\", \"cherry\", \"orange\", \"kiwi\", \"melon\", \"mango\")\n",
    "print(thistuple[2:5])"
   ]
  },
  {
   "cell_type": "markdown",
   "id": "277e8b3e-33c7-4f84-bc61-d8da8e1942e0",
   "metadata": {},
   "source": [
    "Ex 84"
   ]
  },
  {
   "cell_type": "code",
   "execution_count": 325,
   "id": "fe293d38-8ff0-4db1-82a6-e0b1c9db090e",
   "metadata": {},
   "outputs": [
    {
     "name": "stdout",
     "output_type": "stream",
     "text": [
      "('apple', 'banana', 'cherry', 'orange')\n"
     ]
    }
   ],
   "source": [
    "thistuple = (\"apple\", \"banana\", \"cherry\", \"orange\", \"kiwi\", \"melon\", \"mango\")\n",
    "print(thistuple[:4])"
   ]
  },
  {
   "cell_type": "markdown",
   "id": "4e5201fa-51e1-485d-aa8a-df46c1ca9d28",
   "metadata": {},
   "source": [
    "Ex 85"
   ]
  },
  {
   "cell_type": "code",
   "execution_count": 328,
   "id": "92e883b9-9612-4c6f-bbeb-d0b0081ca161",
   "metadata": {},
   "outputs": [
    {
     "name": "stdout",
     "output_type": "stream",
     "text": [
      "('cherry', 'orange', 'kiwi', 'melon', 'mango')\n"
     ]
    }
   ],
   "source": [
    "thistuple = (\"apple\", \"banana\", \"cherry\", \"orange\", \"kiwi\", \"melon\", \"mango\")\n",
    "print(thistuple[2:])"
   ]
  },
  {
   "cell_type": "markdown",
   "id": "8fc44990-a32a-4786-a01e-c0713c930237",
   "metadata": {},
   "source": [
    "Ex 86"
   ]
  },
  {
   "cell_type": "code",
   "execution_count": 331,
   "id": "2fef5c63-0106-4046-a0e6-b889b8c1eb27",
   "metadata": {},
   "outputs": [
    {
     "name": "stdout",
     "output_type": "stream",
     "text": [
      "('orange', 'kiwi', 'melon')\n"
     ]
    }
   ],
   "source": [
    "thistuple = (\"apple\", \"banana\", \"cherry\", \"orange\", \"kiwi\", \"melon\", \"mango\")\n",
    "print(thistuple[-4:-1])"
   ]
  },
  {
   "cell_type": "markdown",
   "id": "efe20aef-e55c-4e34-b3b3-88b5ed7ab3c5",
   "metadata": {},
   "source": [
    "Ex 87"
   ]
  },
  {
   "cell_type": "code",
   "execution_count": 334,
   "id": "f0202e43-ad56-4ef8-8e53-631f94498ebd",
   "metadata": {},
   "outputs": [
    {
     "name": "stdout",
     "output_type": "stream",
     "text": [
      "Yes, 'apple' is in the fruits tuple\n"
     ]
    }
   ],
   "source": [
    "thistuple = (\"apple\", \"banana\", \"cherry\")\n",
    "if \"apple\" in thistuple:\n",
    "    print(\"Yes, 'apple' is in the fruits tuple\")"
   ]
  },
  {
   "cell_type": "markdown",
   "id": "cf840b65-a523-47df-a0b8-1542b2a10679",
   "metadata": {},
   "source": [
    "Ex 88"
   ]
  },
  {
   "cell_type": "code",
   "execution_count": 337,
   "id": "3d620638-7fac-446d-a184-5bf70e3bd2b5",
   "metadata": {},
   "outputs": [
    {
     "ename": "TypeError",
     "evalue": "'tuple' object is not callable",
     "output_type": "error",
     "traceback": [
      "\u001b[0;31m---------------------------------------------------------------------------\u001b[0m",
      "\u001b[0;31mTypeError\u001b[0m                                 Traceback (most recent call last)",
      "Cell \u001b[0;32mIn[337], line 4\u001b[0m\n\u001b[1;32m      2\u001b[0m y \u001b[38;5;241m=\u001b[39m \u001b[38;5;28mlist\u001b[39m(x)\n\u001b[1;32m      3\u001b[0m y[\u001b[38;5;241m1\u001b[39m] \u001b[38;5;241m=\u001b[39m \u001b[38;5;124m\"\u001b[39m\u001b[38;5;124mkiwi\u001b[39m\u001b[38;5;124m\"\u001b[39m\n\u001b[0;32m----> 4\u001b[0m x \u001b[38;5;241m=\u001b[39m \u001b[38;5;28;43mtuple\u001b[39;49m\u001b[43m(\u001b[49m\u001b[43my\u001b[49m\u001b[43m)\u001b[49m\n\u001b[1;32m      6\u001b[0m \u001b[38;5;28mprint\u001b[39m(x)\n",
      "\u001b[0;31mTypeError\u001b[0m: 'tuple' object is not callable"
     ]
    }
   ],
   "source": [
    "x = (\"apple\", \"banana\", \"cherry\")\n",
    "y = list(x)\n",
    "y[1] = \"kiwi\"\n",
    "x = tuple(y)\n",
    "\n",
    "print(x)"
   ]
  },
  {
   "cell_type": "markdown",
   "id": "5ebfc252-f68d-401f-b18d-ec17fd5d696a",
   "metadata": {},
   "source": [
    "Ex 89"
   ]
  },
  {
   "cell_type": "code",
   "execution_count": 340,
   "id": "c73cca1c-799a-4f94-be30-43a1d4c0cc39",
   "metadata": {},
   "outputs": [
    {
     "ename": "TypeError",
     "evalue": "'tuple' object is not callable",
     "output_type": "error",
     "traceback": [
      "\u001b[0;31m---------------------------------------------------------------------------\u001b[0m",
      "\u001b[0;31mTypeError\u001b[0m                                 Traceback (most recent call last)",
      "Cell \u001b[0;32mIn[340], line 4\u001b[0m\n\u001b[1;32m      2\u001b[0m y \u001b[38;5;241m=\u001b[39m \u001b[38;5;28mlist\u001b[39m(thistuple)\n\u001b[1;32m      3\u001b[0m y\u001b[38;5;241m.\u001b[39mappend(\u001b[38;5;124m'\u001b[39m\u001b[38;5;124morange\u001b[39m\u001b[38;5;124m'\u001b[39m)\n\u001b[0;32m----> 4\u001b[0m thistuple \u001b[38;5;241m=\u001b[39m \u001b[38;5;28;43mtuple\u001b[39;49m\u001b[43m(\u001b[49m\u001b[43my\u001b[49m\u001b[43m)\u001b[49m\n",
      "\u001b[0;31mTypeError\u001b[0m: 'tuple' object is not callable"
     ]
    }
   ],
   "source": [
    "thistuple = ('apple', 'banana', 'cherry')\n",
    "y = list(thistuple)\n",
    "y.append('orange')\n",
    "thistuple = tuple(y)"
   ]
  },
  {
   "cell_type": "markdown",
   "id": "88f77d6c-ebc0-4e6c-8631-06a8db6cf38c",
   "metadata": {},
   "source": [
    "Ex 90\n"
   ]
  },
  {
   "cell_type": "code",
   "execution_count": 343,
   "id": "b40bcb1b-c3db-4edb-af5a-1a9b716a34f4",
   "metadata": {},
   "outputs": [
    {
     "name": "stdout",
     "output_type": "stream",
     "text": [
      "('apple', 'banana', 'cherry', 'orange')\n"
     ]
    }
   ],
   "source": [
    "thistuple = (\"apple\", \"banana\", \"cherry\")\n",
    "y = (\"orange\",)\n",
    "thistuple += y\n",
    "\n",
    "print(thistuple)"
   ]
  },
  {
   "cell_type": "markdown",
   "id": "9a40bd56-0d23-4a89-bced-0a01fe492b32",
   "metadata": {},
   "source": [
    "Ex 91"
   ]
  },
  {
   "cell_type": "code",
   "execution_count": 346,
   "id": "19a06d58-7377-41e1-a3ac-f14bd6f625ad",
   "metadata": {},
   "outputs": [
    {
     "ename": "TypeError",
     "evalue": "'tuple' object is not callable",
     "output_type": "error",
     "traceback": [
      "\u001b[0;31m---------------------------------------------------------------------------\u001b[0m",
      "\u001b[0;31mTypeError\u001b[0m                                 Traceback (most recent call last)",
      "Cell \u001b[0;32mIn[346], line 4\u001b[0m\n\u001b[1;32m      2\u001b[0m y \u001b[38;5;241m=\u001b[39m \u001b[38;5;28mlist\u001b[39m(thistuple)\n\u001b[1;32m      3\u001b[0m y\u001b[38;5;241m.\u001b[39mremove(\u001b[38;5;124m\"\u001b[39m\u001b[38;5;124mapple\u001b[39m\u001b[38;5;124m\"\u001b[39m)\n\u001b[0;32m----> 4\u001b[0m thistuple \u001b[38;5;241m=\u001b[39m \u001b[38;5;28;43mtuple\u001b[39;49m\u001b[43m(\u001b[49m\u001b[43my\u001b[49m\u001b[43m)\u001b[49m\n",
      "\u001b[0;31mTypeError\u001b[0m: 'tuple' object is not callable"
     ]
    }
   ],
   "source": [
    "thistuple = (\"apple\", \"banana\", \"cherry\")\n",
    "y = list(thistuple)\n",
    "y.remove(\"apple\")\n",
    "thistuple = tuple(y)"
   ]
  },
  {
   "cell_type": "markdown",
   "id": "9d8fe04e-a205-47a8-87f3-b7e1e786f7e0",
   "metadata": {},
   "source": [
    "Ex 92"
   ]
  },
  {
   "cell_type": "code",
   "execution_count": 349,
   "id": "5afafca1-39bd-40ff-a776-31179fc65638",
   "metadata": {},
   "outputs": [
    {
     "ename": "NameError",
     "evalue": "name 'thistuple' is not defined",
     "output_type": "error",
     "traceback": [
      "\u001b[0;31m---------------------------------------------------------------------------\u001b[0m",
      "\u001b[0;31mNameError\u001b[0m                                 Traceback (most recent call last)",
      "Cell \u001b[0;32mIn[349], line 3\u001b[0m\n\u001b[1;32m      1\u001b[0m thistuple \u001b[38;5;241m=\u001b[39m (\u001b[38;5;124m\"\u001b[39m\u001b[38;5;124mapple\u001b[39m\u001b[38;5;124m\"\u001b[39m, \u001b[38;5;124m\"\u001b[39m\u001b[38;5;124mbanana\u001b[39m\u001b[38;5;124m\"\u001b[39m, \u001b[38;5;124m\"\u001b[39m\u001b[38;5;124mcherry\u001b[39m\u001b[38;5;124m\"\u001b[39m)\n\u001b[1;32m      2\u001b[0m \u001b[38;5;28;01mdel\u001b[39;00m thistuple\n\u001b[0;32m----> 3\u001b[0m \u001b[38;5;28mprint\u001b[39m(\u001b[43mthistuple\u001b[49m)\n",
      "\u001b[0;31mNameError\u001b[0m: name 'thistuple' is not defined"
     ]
    }
   ],
   "source": [
    "thistuple = (\"apple\", \"banana\", \"cherry\")\n",
    "del thistuple\n",
    "print(thistuple) # this will raise an error because the tuple no longer exists"
   ]
  },
  {
   "cell_type": "markdown",
   "id": "660ce256-e2c0-41ed-9bed-d88f1226cf0c",
   "metadata": {},
   "source": [
    "Ex 93"
   ]
  },
  {
   "cell_type": "code",
   "execution_count": 353,
   "id": "8de33b83-3295-47b7-86fa-cbd571093c54",
   "metadata": {},
   "outputs": [],
   "source": [
    "fruits = (\"apple\", \"banana\", \"cherry\")"
   ]
  },
  {
   "cell_type": "markdown",
   "id": "d55bb7f7-fda3-42f3-9f7c-d90deea81fc6",
   "metadata": {},
   "source": [
    "ex 94\n"
   ]
  },
  {
   "cell_type": "code",
   "execution_count": 358,
   "id": "6473dec6-e25d-424b-8077-8da7940d468a",
   "metadata": {},
   "outputs": [
    {
     "name": "stdout",
     "output_type": "stream",
     "text": [
      "apple\n",
      "banana\n",
      "cherry\n"
     ]
    }
   ],
   "source": [
    "fruits = (\"apple\", \"banana\", \"cherry\")\n",
    "\n",
    "(green, yellow, red) = fruits\n",
    "\n",
    "print(green)\n",
    "print(yellow)\n",
    "print(red)"
   ]
  },
  {
   "cell_type": "markdown",
   "id": "f35f08e6-75cc-4d00-ac5b-74cc5bc5ae15",
   "metadata": {},
   "source": [
    "Ex95"
   ]
  },
  {
   "cell_type": "code",
   "execution_count": 361,
   "id": "eeffb8cb-4961-44f4-af31-af3c38f116b3",
   "metadata": {},
   "outputs": [
    {
     "name": "stdout",
     "output_type": "stream",
     "text": [
      "apple\n",
      "banana\n",
      "['cherry', 'strawberry', 'raspberry']\n"
     ]
    }
   ],
   "source": [
    "fruits = (\"apple\", \"banana\", \"cherry\", \"strawberry\", \"raspberry\")\n",
    "\n",
    "(green, yellow, *red) = fruits\n",
    "\n",
    "print(green)\n",
    "print(yellow)\n",
    "print(red)"
   ]
  },
  {
   "cell_type": "markdown",
   "id": "1f8e63f7-0477-400e-82c4-5d8a27e8477e",
   "metadata": {},
   "source": [
    "Ex 96"
   ]
  },
  {
   "cell_type": "code",
   "execution_count": 364,
   "id": "9ccc445b-596b-4dd2-b643-c4b8bfa81dc7",
   "metadata": {},
   "outputs": [
    {
     "name": "stdout",
     "output_type": "stream",
     "text": [
      "apple\n",
      "['banana', 'cherry', 'strawberry']\n",
      "raspberry\n"
     ]
    }
   ],
   "source": [
    "fruits = (\"apple\", \"banana\", \"cherry\", \"strawberry\", \"raspberry\")\n",
    "\n",
    "(green, *tropic, red) = fruits\n",
    "\n",
    "print(green)\n",
    "print(tropic)\n",
    "print(red)"
   ]
  },
  {
   "cell_type": "markdown",
   "id": "bd83c0f9-3486-40a5-826a-32974d3cbb5c",
   "metadata": {},
   "source": [
    "Ex 97"
   ]
  },
  {
   "cell_type": "code",
   "execution_count": 367,
   "id": "b7696087-37f9-4cf6-a50b-3a804d684573",
   "metadata": {},
   "outputs": [
    {
     "name": "stdout",
     "output_type": "stream",
     "text": [
      "apple\n",
      "banana\n",
      "cherry\n"
     ]
    }
   ],
   "source": [
    "thistuple = (\"apple\", \"banana\", \"cherry\")\n",
    "for x in thistuple:\n",
    "    print(x)"
   ]
  },
  {
   "cell_type": "markdown",
   "id": "df44a4b8-cb0e-4810-831c-08ac21b6954f",
   "metadata": {},
   "source": [
    "Ex 98"
   ]
  },
  {
   "cell_type": "code",
   "execution_count": null,
   "id": "f5c7421f-fbae-417e-85b1-802c723f4de3",
   "metadata": {},
   "outputs": [],
   "source": [
    "thistuple = (\"apple\", \"banana\", \"cherry\")\n",
    "for i in range(len(thistuple)):\n",
    "    pri(thistuple[i])"
   ]
  },
  {
   "cell_type": "markdown",
   "id": "8ac6a0c8-bed9-4bac-bb26-2ef856233d5a",
   "metadata": {},
   "source": [
    "Ex 99\n"
   ]
  },
  {
   "cell_type": "code",
   "execution_count": null,
   "id": "baff3206-447b-4442-a6c1-7a46cc9cd585",
   "metadata": {},
   "outputs": [],
   "source": [
    "thistuple = (\"apple\", \"banana\", \"cherry\")\n",
    "i = 0\n",
    "while i < len(thistuple):\n",
    "    print(thistuple[i])\n",
    "    i = i + 1"
   ]
  },
  {
   "cell_type": "markdown",
   "id": "81efadc7-288f-4caa-81a6-2198c3898f03",
   "metadata": {},
   "source": [
    "Ex 100"
   ]
  },
  {
   "cell_type": "code",
   "execution_count": null,
   "id": "fcbee260-839b-4fa0-90f4-e057a06e81a5",
   "metadata": {},
   "outputs": [],
   "source": [
    "tuple1 = ('a','b','c')\n",
    "tuple2 = (1,2,3)\n",
    "\n",
    "tuple3 = tuple1 + tuple2\n",
    "print(tuple3)"
   ]
  },
  {
   "cell_type": "markdown",
   "id": "effe7106-b65f-42a0-b461-4221a7e7c5c9",
   "metadata": {},
   "source": [
    "Ex 101"
   ]
  },
  {
   "cell_type": "code",
   "execution_count": null,
   "id": "c5dafb37-97fa-4717-8592-4f36a19b29b2",
   "metadata": {},
   "outputs": [],
   "source": [
    "fruits = ('apple', 'banana', 'cherry')\n",
    "mytuple = fruits * 2\n",
    "\n",
    "print(mytuple)"
   ]
  },
  {
   "cell_type": "markdown",
   "id": "6b2ee2ca-4787-496e-82e8-f72c89c24d3d",
   "metadata": {},
   "source": [
    "Python Sets Ex 102"
   ]
  },
  {
   "cell_type": "code",
   "execution_count": 3,
   "id": "fcb17aa2-b9eb-4a9a-aa20-60da77ed6097",
   "metadata": {},
   "outputs": [],
   "source": [
    "myset = {\"apple\",\"banana\",\"cherry\"}"
   ]
  },
  {
   "cell_type": "markdown",
   "id": "7e991fbc-0d34-4c7f-812a-5be509a00a95",
   "metadata": {},
   "source": [
    "Ex 103"
   ]
  },
  {
   "cell_type": "code",
   "execution_count": 6,
   "id": "1ba6d070-4ae6-45ec-b09b-82fbba0f9f8c",
   "metadata": {},
   "outputs": [
    {
     "name": "stdout",
     "output_type": "stream",
     "text": [
      "{'apple', 'cherry', 'banana'}\n"
     ]
    }
   ],
   "source": [
    "thisset = {\"apple\",\"banana\",\"cherry\"}\n",
    "print(thisset)"
   ]
  },
  {
   "cell_type": "markdown",
   "id": "4be7de30-181d-4d63-885a-306eaddc221c",
   "metadata": {},
   "source": [
    "Ex 104"
   ]
  },
  {
   "cell_type": "code",
   "execution_count": 9,
   "id": "0e58f112-1206-446c-9f01-b0cf02bf8ced",
   "metadata": {},
   "outputs": [
    {
     "name": "stdout",
     "output_type": "stream",
     "text": [
      "{'apple', 'cherry', 'banana'}\n"
     ]
    }
   ],
   "source": [
    "thisset = {\"apple\",\"banana\",\"cherry\",\"apple\"}\n",
    "print(thisset)"
   ]
  },
  {
   "cell_type": "markdown",
   "id": "5d770d99-b80a-49f4-8714-3c3272524fe1",
   "metadata": {},
   "source": [
    "Ex 105"
   ]
  },
  {
   "cell_type": "code",
   "execution_count": 12,
   "id": "650c5f97-cac2-435e-91eb-13754c552033",
   "metadata": {},
   "outputs": [
    {
     "name": "stdout",
     "output_type": "stream",
     "text": [
      "{'apple', True, 2, 'cherry', 'banana'}\n"
     ]
    }
   ],
   "source": [
    "thisset = {\"apple\",\"banana\",\"cherry\",True,1,2}\n",
    "\n",
    "print(thisset)"
   ]
  },
  {
   "cell_type": "markdown",
   "id": "a846f975-c600-4018-8849-78b839b75439",
   "metadata": {},
   "source": [
    "Ex 106"
   ]
  },
  {
   "cell_type": "code",
   "execution_count": 15,
   "id": "36e9c07b-4225-4d58-b3b4-316d129af2c6",
   "metadata": {},
   "outputs": [
    {
     "name": "stdout",
     "output_type": "stream",
     "text": [
      "{False, True, 'apple', 'cherry', 'banana'}\n"
     ]
    }
   ],
   "source": [
    "thisset = {\"apple\",\"banana\",\"cherry\", False,True, 0}\n",
    "\n",
    "print(thisset)"
   ]
  },
  {
   "cell_type": "markdown",
   "id": "04cc30ef-858d-4a17-b0fe-4ed0d2782c3c",
   "metadata": {},
   "source": [
    "Ex 107"
   ]
  },
  {
   "cell_type": "code",
   "execution_count": 18,
   "id": "21714960-ba14-4ade-8e70-c95c25f4b710",
   "metadata": {},
   "outputs": [
    {
     "name": "stdout",
     "output_type": "stream",
     "text": [
      "3\n"
     ]
    }
   ],
   "source": [
    "thisset = {\"apple\",\"banana\",\"cherry\"}\n",
    "print(len(thisset))"
   ]
  },
  {
   "cell_type": "markdown",
   "id": "2d88848b-0a82-4c7f-8d1e-59ecc88b6e89",
   "metadata": {},
   "source": [
    "Ex 108"
   ]
  },
  {
   "cell_type": "code",
   "execution_count": 21,
   "id": "9a8f285c-4ea3-4b50-8eed-b3fa745e43d4",
   "metadata": {},
   "outputs": [],
   "source": [
    "set1 = {\"apple\", \"banana\", \"cherry\"}\n",
    "set2 = {1,5,7,9,3}\n",
    "set3 = {True, False, False}"
   ]
  },
  {
   "cell_type": "markdown",
   "id": "9c271604-420d-488d-968a-c8cd0915d59b",
   "metadata": {},
   "source": [
    "Ex 109"
   ]
  },
  {
   "cell_type": "code",
   "execution_count": 24,
   "id": "26ec77c2-ae8f-4551-96a5-0b66cd02a5a7",
   "metadata": {},
   "outputs": [],
   "source": [
    "set1 = {\"abc\", 34, True, 40, \"male\"}"
   ]
  },
  {
   "cell_type": "markdown",
   "id": "dcddd21f-dc3d-4ae7-89e4-0a6025d45694",
   "metadata": {},
   "source": [
    "Ex 120"
   ]
  },
  {
   "cell_type": "code",
   "execution_count": 27,
   "id": "b73cbb59-f4eb-478c-abf2-f012293fb9e5",
   "metadata": {},
   "outputs": [
    {
     "name": "stdout",
     "output_type": "stream",
     "text": [
      "<class 'set'>\n"
     ]
    }
   ],
   "source": [
    "myset = {\"apple\", \"banana\", \"cherry\"}\n",
    "print(type(myset))"
   ]
  },
  {
   "cell_type": "markdown",
   "id": "651edafc-374a-4b6f-8527-8cb018ecb71a",
   "metadata": {},
   "source": [
    "Ex 121"
   ]
  },
  {
   "cell_type": "code",
   "execution_count": 30,
   "id": "32ae22a5-3656-4e83-bde2-3efbf0115182",
   "metadata": {},
   "outputs": [
    {
     "name": "stdout",
     "output_type": "stream",
     "text": [
      "{'apple', 'cherry', 'banana'}\n"
     ]
    }
   ],
   "source": [
    "thisset = set((\"apple\", \"banana\", \"cherry\")) # note the double round-brackets\n",
    "print(thisset)"
   ]
  },
  {
   "cell_type": "markdown",
   "id": "632f5543-9f94-40c3-a0f3-50e3ef5d151e",
   "metadata": {},
   "source": [
    "Ex 122"
   ]
  },
  {
   "cell_type": "code",
   "execution_count": 34,
   "id": "871a1aa0-1400-47ba-b0bf-ecb8923a313d",
   "metadata": {},
   "outputs": [
    {
     "name": "stdout",
     "output_type": "stream",
     "text": [
      "apple\n",
      "cherry\n",
      "banana\n"
     ]
    }
   ],
   "source": [
    "thisset = {\"apple\", \"banana\", \"cherry\"}\n",
    "\n",
    "for x in thisset:\n",
    "    print(x)"
   ]
  },
  {
   "cell_type": "markdown",
   "id": "84d517cc-47d5-4ece-a5ba-ef058a2c89da",
   "metadata": {},
   "source": [
    "Ex 123"
   ]
  },
  {
   "cell_type": "code",
   "execution_count": 38,
   "id": "652af566-ff06-451f-ba11-5b3173deb887",
   "metadata": {},
   "outputs": [
    {
     "name": "stdout",
     "output_type": "stream",
     "text": [
      "True\n"
     ]
    }
   ],
   "source": [
    "thisset = {\"apple\", \"banana\", \"cherry\"}\n",
    "\n",
    "print(\"banana\" in thisset)"
   ]
  },
  {
   "cell_type": "markdown",
   "id": "1d1f20c7-5dbd-4e88-8489-882da5f20608",
   "metadata": {},
   "source": [
    "Ex 124"
   ]
  },
  {
   "cell_type": "code",
   "execution_count": 41,
   "id": "78cad83c-8b63-4085-9f91-c898f2484d1f",
   "metadata": {},
   "outputs": [
    {
     "name": "stdout",
     "output_type": "stream",
     "text": [
      "False\n"
     ]
    }
   ],
   "source": [
    "thisset = {\"apple\", \"banana\", \"cherry\"}\n",
    "\n",
    "print(\"banana\" not in thisset)"
   ]
  },
  {
   "cell_type": "markdown",
   "id": "7b783115-2c7e-4737-8282-ce8c076cc13d",
   "metadata": {},
   "source": [
    "Ex 125"
   ]
  },
  {
   "cell_type": "code",
   "execution_count": 44,
   "id": "947063cc-da03-4afe-9969-be43e7f0c670",
   "metadata": {},
   "outputs": [
    {
     "name": "stdout",
     "output_type": "stream",
     "text": [
      "{'apple', 'orange', 'cherry', 'banana'}\n"
     ]
    }
   ],
   "source": [
    "thisset = {\"apple\", \"banana\", \"cherry\"}\n",
    "\n",
    "thisset.add(\"orange\")\n",
    "\n",
    "print(thisset)"
   ]
  },
  {
   "cell_type": "markdown",
   "id": "e7d0c65a-4605-4bd4-a841-28ef429a3dfb",
   "metadata": {},
   "source": [
    "Ex 126"
   ]
  },
  {
   "cell_type": "code",
   "execution_count": 47,
   "id": "23dfe1c2-0016-4693-8d91-a3040c5f3295",
   "metadata": {},
   "outputs": [
    {
     "name": "stdout",
     "output_type": "stream",
     "text": [
      "{'apple', 'papaya', 'mango', 'pineapple', 'cherry', 'banana'}\n"
     ]
    }
   ],
   "source": [
    "thisset = {'apple', 'banana', 'cherry'}\n",
    "tropical = {'pineapple', 'mango', 'papaya'}\n",
    "\n",
    "thisset.update(tropical)\n",
    "\n",
    "print(thisset)"
   ]
  },
  {
   "cell_type": "markdown",
   "id": "152fb777-6ee8-4380-b3bf-a0d71c2619a9",
   "metadata": {},
   "source": [
    "Ex 127"
   ]
  },
  {
   "cell_type": "code",
   "execution_count": 56,
   "id": "2c34f43d-e7e2-432c-81dc-2ae70d2ba9e8",
   "metadata": {},
   "outputs": [
    {
     "name": "stdout",
     "output_type": "stream",
     "text": [
      "{'orange', 'apple', 'banana', 'kiwi', 'cherry'}\n"
     ]
    }
   ],
   "source": [
    "thisset = {\"apple\", \"banana\", \"cherry\"}\n",
    "mylist = [\"kiwi\", \"orange\"]\n",
    "\n",
    "thisset.update(mylist)\n",
    "\n",
    "print(thisset)"
   ]
  },
  {
   "cell_type": "markdown",
   "id": "629cd2c0-ae8e-443f-98f5-eb62c2ce6417",
   "metadata": {},
   "source": [
    "Ex 128"
   ]
  },
  {
   "cell_type": "code",
   "execution_count": 59,
   "id": "642881b0-e85e-41a6-afad-a54bde6a4672",
   "metadata": {},
   "outputs": [
    {
     "name": "stdout",
     "output_type": "stream",
     "text": [
      "{'apple', 'cherry'}\n"
     ]
    }
   ],
   "source": [
    "thisset = {'apple', 'banana', 'cherry'}\n",
    "\n",
    "thisset.remove('banana')\n",
    "\n",
    "print(thisset)"
   ]
  },
  {
   "cell_type": "markdown",
   "id": "5e7bcd98-53b1-4a9c-8a3f-48ec4ca89db9",
   "metadata": {},
   "source": [
    "Ex 129"
   ]
  },
  {
   "cell_type": "code",
   "execution_count": 64,
   "id": "7e7d484a-3456-41a9-a1bc-d703d73b53ae",
   "metadata": {},
   "outputs": [
    {
     "name": "stdout",
     "output_type": "stream",
     "text": [
      "{'apple', 'cherry'}\n"
     ]
    }
   ],
   "source": [
    "thisset = {\"apple\", \"banana\", \"cherry\"}\n",
    "\n",
    "thisset.discard(\"banana\")\n",
    "\n",
    "print(thisset)"
   ]
  },
  {
   "cell_type": "markdown",
   "id": "36e656f3-41b2-442d-93b2-b79f4293045e",
   "metadata": {},
   "source": [
    "Ex 130"
   ]
  },
  {
   "cell_type": "code",
   "execution_count": 69,
   "id": "032dcf37-9ee9-413e-be24-7806f4916d41",
   "metadata": {},
   "outputs": [
    {
     "name": "stdout",
     "output_type": "stream",
     "text": [
      "apple\n",
      "{'cherry', 'banana'}\n"
     ]
    }
   ],
   "source": [
    "thisset = {\"apple\", \"banana\", \"cherry\"}\n",
    "\n",
    "x = thisset.pop()\n",
    "\n",
    "print(x)\n",
    "\n",
    "print(thisset)"
   ]
  },
  {
   "cell_type": "markdown",
   "id": "558c5ea1-3419-42b6-a7b6-e6d75b1aef85",
   "metadata": {},
   "source": [
    "Ex 131"
   ]
  },
  {
   "cell_type": "code",
   "execution_count": 72,
   "id": "975d301d-bbe8-4d00-93ce-47a447184d40",
   "metadata": {},
   "outputs": [
    {
     "name": "stdout",
     "output_type": "stream",
     "text": [
      "set()\n"
     ]
    }
   ],
   "source": [
    "thisset = {\"apple\", \"banana\", \"cherry\"}\n",
    "\n",
    "thisset.clear()\n",
    "\n",
    "print(thisset)"
   ]
  },
  {
   "cell_type": "markdown",
   "id": "c6dbf698-085d-4c3c-8de5-3b555a650f1a",
   "metadata": {},
   "source": [
    "Ex 132"
   ]
  },
  {
   "cell_type": "code",
   "execution_count": 77,
   "id": "eabbaa52-3c2b-4ae5-b16d-ef82e80e8c19",
   "metadata": {},
   "outputs": [
    {
     "ename": "NameError",
     "evalue": "name 'thisset' is not defined",
     "output_type": "error",
     "traceback": [
      "\u001b[0;31m---------------------------------------------------------------------------\u001b[0m",
      "\u001b[0;31mNameError\u001b[0m                                 Traceback (most recent call last)",
      "Cell \u001b[0;32mIn[77], line 5\u001b[0m\n\u001b[1;32m      1\u001b[0m thisset \u001b[38;5;241m=\u001b[39m {\u001b[38;5;124m\"\u001b[39m\u001b[38;5;124mapple\u001b[39m\u001b[38;5;124m\"\u001b[39m, \u001b[38;5;124m\"\u001b[39m\u001b[38;5;124mbanana\u001b[39m\u001b[38;5;124m\"\u001b[39m, \u001b[38;5;124m\"\u001b[39m\u001b[38;5;124mcherry\u001b[39m\u001b[38;5;124m\"\u001b[39m}\n\u001b[1;32m      3\u001b[0m \u001b[38;5;28;01mdel\u001b[39;00m thisset\n\u001b[0;32m----> 5\u001b[0m \u001b[38;5;28mprint\u001b[39m(\u001b[43mthisset\u001b[49m)\n",
      "\u001b[0;31mNameError\u001b[0m: name 'thisset' is not defined"
     ]
    }
   ],
   "source": [
    "thisset = {\"apple\", \"banana\", \"cherry\"}\n",
    "\n",
    "del thisset\n",
    "\n",
    "print(thisset)"
   ]
  },
  {
   "cell_type": "markdown",
   "id": "046c05b0-95e9-438a-baa4-620983ecc1ab",
   "metadata": {},
   "source": [
    "Ex 133"
   ]
  },
  {
   "cell_type": "code",
   "execution_count": 80,
   "id": "2d54f9b7-024e-4daf-8436-4cd99aff420c",
   "metadata": {},
   "outputs": [
    {
     "name": "stdout",
     "output_type": "stream",
     "text": [
      "apple\n",
      "cherry\n",
      "banana\n"
     ]
    }
   ],
   "source": [
    "thisset = {\"apple\", \"banana\", \"cherry\"}\n",
    "\n",
    "for x in thisset:\n",
    "    print(x)"
   ]
  },
  {
   "cell_type": "markdown",
   "id": "66a62000-556f-41ec-a135-e4c870099908",
   "metadata": {},
   "source": [
    "Ex 134"
   ]
  },
  {
   "cell_type": "code",
   "execution_count": 83,
   "id": "771d767f-3223-420b-84ea-f514f357cc1d",
   "metadata": {},
   "outputs": [
    {
     "name": "stdout",
     "output_type": "stream",
     "text": [
      "{1, 2, 3, 'c', 'b', 'a'}\n"
     ]
    }
   ],
   "source": [
    "set1 = {'a','b','c'}\n",
    "set2 = {1,2,3}\n",
    "\n",
    "set3 = set1.union(set2)\n",
    "print(set3)"
   ]
  },
  {
   "cell_type": "markdown",
   "id": "6700b695-b599-41c6-86e9-999ab17d01ab",
   "metadata": {},
   "source": [
    "Ex 135"
   ]
  },
  {
   "cell_type": "code",
   "execution_count": 86,
   "id": "170ae2ba-0e55-45a0-b073-56d161c1fa37",
   "metadata": {},
   "outputs": [
    {
     "name": "stdout",
     "output_type": "stream",
     "text": [
      "{1, 2, 3, 'c', 'b', 'a'}\n"
     ]
    }
   ],
   "source": [
    "set1 = {'a','b','c'}\n",
    "set2 = {1,2,3}\n",
    "\n",
    "set3 = set1 | set2\n",
    "print(set3)"
   ]
  },
  {
   "cell_type": "markdown",
   "id": "83d8211c-2506-4ac2-a318-800c3d33a880",
   "metadata": {},
   "source": [
    "Ex 136"
   ]
  },
  {
   "cell_type": "code",
   "execution_count": 93,
   "id": "9d8bc16e-2947-401e-ae18-141cb2c08192",
   "metadata": {},
   "outputs": [
    {
     "name": "stdout",
     "output_type": "stream",
     "text": [
      "{1, 2, 3, 'Elena', 'c', 'a', 'apple', 'John', 'b', 'cherry', 'bananas'}\n"
     ]
    }
   ],
   "source": [
    "set1 = {'a','b','c'}\n",
    "set2 = {1,2,3}\n",
    "set3 = {'John', 'Elena'}\n",
    "set4 = {'apple', 'bananas', 'cherry'}\n",
    "\n",
    "myset = set1.union(set1, set2, set3, set4)\n",
    "print(myset)\n",
    "\n"
   ]
  },
  {
   "cell_type": "markdown",
   "id": "ceae8864-684a-47cf-902c-fcfdfac553c1",
   "metadata": {},
   "source": [
    "Ex 137"
   ]
  },
  {
   "cell_type": "code",
   "execution_count": 96,
   "id": "138fc4ca-e457-43eb-9889-726899f27732",
   "metadata": {},
   "outputs": [
    {
     "name": "stdout",
     "output_type": "stream",
     "text": [
      "{1, 2, 3, 'Elena', 'c', 'a', 'apple', 'John', 'b', 'cherry', 'bananas'}\n"
     ]
    }
   ],
   "source": [
    "set1 = {'a','b','c'}\n",
    "set2 = {1,2,3}\n",
    "set3 = {'John', 'Elena'}\n",
    "set4 = {'apple', 'bananas', 'cherry'}\n",
    "\n",
    "myset = set1 | set2 | set3 | set4\n",
    "print(myset)\n",
    "\n"
   ]
  },
  {
   "cell_type": "markdown",
   "id": "4c313c51-21eb-44be-8fe2-a7ffec486811",
   "metadata": {},
   "source": [
    "Ex 138"
   ]
  },
  {
   "cell_type": "code",
   "execution_count": 99,
   "id": "ef9ea692-80cb-4a7d-8849-02debac29b3f",
   "metadata": {},
   "outputs": [
    {
     "name": "stdout",
     "output_type": "stream",
     "text": [
      "{1, 2, 3, 'c', 'b', 'a'}\n"
     ]
    }
   ],
   "source": [
    "x = {'a','b','c'}\n",
    "y = {1,2,3}\n",
    "\n",
    "z = x.union(y)\n",
    "print(z)"
   ]
  },
  {
   "cell_type": "markdown",
   "id": "41353106-96ab-4497-be15-57ade575ab04",
   "metadata": {},
   "source": [
    "Ex 139"
   ]
  },
  {
   "cell_type": "code",
   "execution_count": 102,
   "id": "66ac8e7d-c2a5-4bbe-9106-67f8b2fbdcc2",
   "metadata": {},
   "outputs": [
    {
     "name": "stdout",
     "output_type": "stream",
     "text": [
      "{1, 2, 3, 'c', 'b', 'a'}\n"
     ]
    }
   ],
   "source": [
    "set1 = {'a','b','c'}\n",
    "set2 = {1,2,3}\n",
    "\n",
    "set1.update(set2)\n",
    "print(set1)"
   ]
  },
  {
   "cell_type": "markdown",
   "id": "852dc9fb-af15-4865-9ce5-9b445cfafb55",
   "metadata": {},
   "source": [
    "Ex 140"
   ]
  },
  {
   "cell_type": "code",
   "execution_count": 105,
   "id": "2180b63c-72af-4178-af14-b947fc7ef31b",
   "metadata": {},
   "outputs": [
    {
     "name": "stdout",
     "output_type": "stream",
     "text": [
      "{'apple'}\n"
     ]
    }
   ],
   "source": [
    "set1 = {'apple', 'banana', 'cherry'}\n",
    "set2 = {'google', 'microsoft','apple'}\n",
    "\n",
    "set3 = set1.intersection(set2)\n",
    "print(set3)"
   ]
  },
  {
   "cell_type": "markdown",
   "id": "746ac590-fc6b-4f51-a9d5-7e237474b3a0",
   "metadata": {},
   "source": [
    "Ex 141"
   ]
  },
  {
   "cell_type": "code",
   "execution_count": 108,
   "id": "95da187f-e14e-4d77-b4a7-4f8c1f511dbc",
   "metadata": {},
   "outputs": [
    {
     "name": "stdout",
     "output_type": "stream",
     "text": [
      "{'apple'}\n"
     ]
    }
   ],
   "source": [
    "set1 = {'apple', 'banana', 'cherry'}\n",
    "set2 = {'google', 'microsoft','apple'}\n",
    "\n",
    "set3 = set1 & set2\n",
    "print(set3)"
   ]
  },
  {
   "cell_type": "markdown",
   "id": "55958663-35a8-4daf-bf2b-510159998907",
   "metadata": {},
   "source": [
    "Ex 142"
   ]
  },
  {
   "cell_type": "code",
   "execution_count": 112,
   "id": "4ac0ad54-177f-428e-abeb-87a3c6434f4f",
   "metadata": {},
   "outputs": [
    {
     "name": "stdout",
     "output_type": "stream",
     "text": [
      "{'apple'}\n"
     ]
    }
   ],
   "source": [
    "set1 = {'apple', 'banana', 'cherry'}\n",
    "set2 = {'google', 'microsoft','apple'}\n",
    "\n",
    "set1.intersection_update(set2)\n",
    "print(set1)"
   ]
  },
  {
   "cell_type": "markdown",
   "id": "c470a6fe-a47c-4927-971a-9efa72dfd4db",
   "metadata": {},
   "source": [
    "Ex 143"
   ]
  },
  {
   "cell_type": "code",
   "execution_count": 115,
   "id": "1470dfc4-f0dc-423f-a9ff-fb0864039742",
   "metadata": {},
   "outputs": [
    {
     "name": "stdout",
     "output_type": "stream",
     "text": [
      "{False, 1, 'apple'}\n"
     ]
    }
   ],
   "source": [
    "set1 = {'apple', 1, 'banana', 0, 'cherry'}\n",
    "set2 = {False, 'google', 1, 'apple', 2, True}\n",
    "\n",
    "set3 = set1.intersection(set2)\n",
    "\n",
    "print(set3)"
   ]
  },
  {
   "cell_type": "markdown",
   "id": "85d98649-0b74-494e-8e64-f61f3eba7842",
   "metadata": {},
   "source": [
    "Ex 144"
   ]
  },
  {
   "cell_type": "code",
   "execution_count": 118,
   "id": "2cdf0791-c4a7-40d0-b52a-75398ab9eea8",
   "metadata": {},
   "outputs": [
    {
     "name": "stdout",
     "output_type": "stream",
     "text": [
      "{'cherry', 'banana'}\n"
     ]
    }
   ],
   "source": [
    "set1 = {'apple', 'banana', 'cherry'}\n",
    "set2 = {'google', 'microsoft','apple'}\n",
    "\n",
    "set3 = set1.difference(set2)\n",
    "print(set3)"
   ]
  },
  {
   "cell_type": "markdown",
   "id": "3bc1ebeb-0828-4e67-9dc0-7bf347e4623e",
   "metadata": {},
   "source": [
    "Ex 145"
   ]
  },
  {
   "cell_type": "code",
   "execution_count": 121,
   "id": "35c48ef9-d5e3-4c62-aef3-3d13c3b80be3",
   "metadata": {},
   "outputs": [
    {
     "name": "stdout",
     "output_type": "stream",
     "text": [
      "{'cherry', 'banana'}\n"
     ]
    }
   ],
   "source": [
    "set1 = {'apple', 'banana', 'cherry'}\n",
    "set2 = {'google', 'microsoft','apple'}\n",
    "\n",
    "set3 = set1 - set2\n",
    "print(set3)"
   ]
  },
  {
   "cell_type": "markdown",
   "id": "a596df59-6e6c-4409-a892-e87227da5554",
   "metadata": {},
   "source": [
    "Ex 146"
   ]
  },
  {
   "cell_type": "code",
   "execution_count": 126,
   "id": "35c182e7-7f17-4e48-98ef-0fa631d52582",
   "metadata": {},
   "outputs": [
    {
     "name": "stdout",
     "output_type": "stream",
     "text": [
      "{'cherry', 'banana'}\n"
     ]
    }
   ],
   "source": [
    "set1 = {'apple', 'banana', 'cherry'}\n",
    "set2 = {'google', 'microsoft','apple'}\n",
    "\n",
    "set1.difference_update(set2)\n",
    "print(set1)"
   ]
  },
  {
   "cell_type": "markdown",
   "id": "6d89f393-4118-4005-9875-ef94824706e5",
   "metadata": {},
   "source": [
    "Ex 147"
   ]
  },
  {
   "cell_type": "code",
   "execution_count": 131,
   "id": "44e91de0-6b8d-4aef-97a0-6ea4f4bca7b8",
   "metadata": {},
   "outputs": [
    {
     "name": "stdout",
     "output_type": "stream",
     "text": [
      "{'google', 'microsoft', 'banana', 'cherry'}\n"
     ]
    }
   ],
   "source": [
    "set1 = {'apple', 'banana', 'cherry'}\n",
    "set2 = {'google', 'microsoft','apple'}\n",
    "\n",
    "set3 = set1.symmetric_difference(set2)\n",
    "\n",
    "print(set3)"
   ]
  },
  {
   "cell_type": "markdown",
   "id": "5db35f47-a93b-4198-bdca-31a61230ca04",
   "metadata": {},
   "source": [
    "Ex 148\n"
   ]
  },
  {
   "cell_type": "code",
   "execution_count": 136,
   "id": "4f9dae22-29ff-4bfc-a865-3549026fab04",
   "metadata": {},
   "outputs": [
    {
     "name": "stdout",
     "output_type": "stream",
     "text": [
      "{'google', 'microsoft', 'banana', 'cherry'}\n"
     ]
    }
   ],
   "source": [
    "set1 = {'apple', 'banana', 'cherry'}\n",
    "set2 = {'google', 'microsoft','apple'}\n",
    "\n",
    "set3 = set1 ^ set2\n",
    "print(set3)"
   ]
  },
  {
   "cell_type": "markdown",
   "id": "44b57930-8575-453b-8128-0423a008808d",
   "metadata": {},
   "source": [
    "Ex 149"
   ]
  },
  {
   "cell_type": "code",
   "execution_count": 139,
   "id": "897315e3-279d-4d8d-b222-ef8765840647",
   "metadata": {},
   "outputs": [
    {
     "name": "stdout",
     "output_type": "stream",
     "text": [
      "{'google', 'microsoft', 'banana', 'cherry'}\n"
     ]
    }
   ],
   "source": [
    "set1 = {'apple', 'banana', 'cherry'}\n",
    "set2 = {'google', 'microsoft','apple'}\n",
    "\n",
    "set1.symmetric_difference_update(set2)\n",
    "print(set1)"
   ]
  },
  {
   "cell_type": "markdown",
   "id": "138c8943-cc7c-4c73-b4b8-b8aee07675a3",
   "metadata": {},
   "source": [
    "Python Dictionaries Ex 150"
   ]
  },
  {
   "cell_type": "code",
   "execution_count": 142,
   "id": "641e780b-1f7f-43b5-a457-8757d28d2e36",
   "metadata": {},
   "outputs": [],
   "source": [
    "thisdict = {\n",
    "    \"brand\": \"ford\",\n",
    "    \"model\": \"Mustang\",\n",
    "    \"year\": 1964\n",
    "}"
   ]
  },
  {
   "cell_type": "markdown",
   "id": "bdc7dda8-6cf8-4985-953c-f903e653f9d5",
   "metadata": {},
   "source": [
    "Ex 151"
   ]
  },
  {
   "cell_type": "code",
   "execution_count": 145,
   "id": "ae84eeb5-c7f7-42ff-8236-47ccada758d6",
   "metadata": {},
   "outputs": [
    {
     "name": "stdout",
     "output_type": "stream",
     "text": [
      "{'brand': 'ford', 'model': 'Mustang', 'year': 1964}\n"
     ]
    }
   ],
   "source": [
    "thisdict = {\n",
    "    \"brand\": \"ford\",\n",
    "    \"model\": \"Mustang\",\n",
    "    \"year\": 1964\n",
    "}\n",
    "print(thisdict)"
   ]
  },
  {
   "cell_type": "markdown",
   "id": "d997311f-cff8-4658-93fe-2a3dd7d2fa0c",
   "metadata": {},
   "source": [
    "Ex 152"
   ]
  },
  {
   "cell_type": "code",
   "execution_count": 148,
   "id": "f63d27b7-0b45-4249-a3e0-f194fd370f7f",
   "metadata": {},
   "outputs": [
    {
     "name": "stdout",
     "output_type": "stream",
     "text": [
      "ford\n"
     ]
    }
   ],
   "source": [
    "thisdict = {\n",
    "    \"brand\": \"ford\",\n",
    "    \"model\": \"Mustang\",\n",
    "    \"year\": 1964\n",
    "}\n",
    "print(thisdict[\"brand\"])"
   ]
  },
  {
   "cell_type": "markdown",
   "id": "57e69141-e1f3-429f-91cf-7446ac2067d3",
   "metadata": {},
   "source": [
    "Ex 153"
   ]
  },
  {
   "cell_type": "code",
   "execution_count": 151,
   "id": "f274174f-d4c0-4477-a368-2b09c2b56571",
   "metadata": {},
   "outputs": [
    {
     "name": "stdout",
     "output_type": "stream",
     "text": [
      "{'brand': 'ford', 'model': 'Mustang', 'year': 2020}\n"
     ]
    }
   ],
   "source": [
    "thisdict = {\n",
    "    \"brand\": \"ford\",\n",
    "    \"model\": \"Mustang\",\n",
    "    \"year\": 1964,\n",
    "    \"year\": 2020\n",
    "`}\n",
    "print(thisdict)"
   ]
  },
  {
   "cell_type": "markdown",
   "id": "93e0e7bd-fd5a-4a94-bed5-f73a3405aa09",
   "metadata": {},
   "source": [
    "Ex 154"
   ]
  },
  {
   "cell_type": "code",
   "execution_count": 154,
   "id": "584f1ddf-7851-44fc-a36a-24b903cda752",
   "metadata": {},
   "outputs": [
    {
     "name": "stdout",
     "output_type": "stream",
     "text": [
      "3\n"
     ]
    }
   ],
   "source": [
    "print(len(thisdict))"
   ]
  },
  {
   "cell_type": "markdown",
   "id": "a92d9d46-432a-4b64-b918-5fb570f0a9ea",
   "metadata": {},
   "source": [
    "Ex 155"
   ]
  },
  {
   "cell_type": "code",
   "execution_count": 157,
   "id": "363b2e7c-6313-4d15-bad0-8a84c52db8ed",
   "metadata": {},
   "outputs": [],
   "source": [
    "thisdict = {\n",
    "    \"brand\": \"ford\",\n",
    "    \"electric\": False,\n",
    "    \"year\": 1964,\n",
    "    \"colors\": [\"red\",\"white\",\"blue\"]\n",
    "}"
   ]
  },
  {
   "cell_type": "markdown",
   "id": "d985da62-45ef-4d2b-b1bc-a6abbf90fa5d",
   "metadata": {},
   "source": [
    "Ex 156"
   ]
  },
  {
   "cell_type": "code",
   "execution_count": 160,
   "id": "e079ec4c-f68f-47f6-afe2-2b6bc535fe87",
   "metadata": {},
   "outputs": [
    {
     "name": "stdout",
     "output_type": "stream",
     "text": [
      "<class 'dict'>\n"
     ]
    }
   ],
   "source": [
    "thisdict = {\n",
    "    \"brand\": \"ford\",\n",
    "    \"model\": \"Mustang\",\n",
    "    \"year\": 1964\n",
    "}\n",
    "print(type(thisdict))"
   ]
  },
  {
   "cell_type": "markdown",
   "id": "79415040-4f47-42bd-8e55-c58df900c5e4",
   "metadata": {},
   "source": [
    "Ex 157\n"
   ]
  },
  {
   "cell_type": "code",
   "execution_count": 163,
   "id": "489c5608-9ae1-4052-87ed-be8318486696",
   "metadata": {},
   "outputs": [
    {
     "name": "stdout",
     "output_type": "stream",
     "text": [
      "{'name': 'John', 'age': 36, 'country': 'Norway'}\n"
     ]
    }
   ],
   "source": [
    "thisdict = dict(name = \"John\" , age = 36, country = \"Norway\")\n",
    "print(thisdict)"
   ]
  },
  {
   "cell_type": "markdown",
   "id": "b4bb4dfc-814e-4b44-af30-c14c459bcc7d",
   "metadata": {},
   "source": [
    "Ex 158"
   ]
  },
  {
   "cell_type": "code",
   "execution_count": 166,
   "id": "5eb49473-ff58-4928-9407-e9db15a94cae",
   "metadata": {},
   "outputs": [],
   "source": [
    "thisdict = {\n",
    "    \"brand\": \"ford\",\n",
    "    \"model\": \"Mustang\",\n",
    "    \"year\": 1964\n",
    "}\n",
    "x = thisdict[\"model\"]"
   ]
  },
  {
   "cell_type": "markdown",
   "id": "0c532abb-a2a2-4c49-9a59-bf6337013e55",
   "metadata": {},
   "source": [
    "Ex 159"
   ]
  },
  {
   "cell_type": "code",
   "execution_count": 169,
   "id": "b553c173-6fcd-46f7-88b1-f906afc96574",
   "metadata": {},
   "outputs": [],
   "source": [
    "x = thisdict.get(\"model\")"
   ]
  },
  {
   "cell_type": "markdown",
   "id": "1fe53590-0def-4372-a057-9d91eaa7481e",
   "metadata": {},
   "source": [
    "Ex 160\n"
   ]
  },
  {
   "cell_type": "code",
   "execution_count": 172,
   "id": "be15b0b6-71ab-4c3f-aeeb-d35c23409269",
   "metadata": {},
   "outputs": [],
   "source": [
    "x = thisdict.keys()"
   ]
  },
  {
   "cell_type": "markdown",
   "id": "78ce287e-addf-44df-9333-282f1c160ba2",
   "metadata": {},
   "source": [
    "Ex 161\n",
    "\n"
   ]
  },
  {
   "cell_type": "code",
   "execution_count": 183,
   "id": "edefc860-5465-49ce-aa30-eebae49ba689",
   "metadata": {},
   "outputs": [
    {
     "name": "stdout",
     "output_type": "stream",
     "text": [
      "dict_keys(['brand', 'model', 'year'])\n",
      "dict_keys(['brand', 'model', 'year', 'color'])\n"
     ]
    }
   ],
   "source": [
    "Car = {\n",
    "    \"brand\": \"Ford\",\n",
    "    \"model\": \"Mustang\",\n",
    "    \"year\": 1964\n",
    "}\n",
    "\n",
    "x = Car.keys()\n",
    "\n",
    "print(x) #before the change\n",
    "\n",
    "Car[\"color\"] = \"white\"\n",
    "\n",
    "print(x) #after the change\n",
    "    "
   ]
  },
  {
   "cell_type": "markdown",
   "id": "db7ef674-060a-4d87-8f86-29d9e15b5cd9",
   "metadata": {},
   "source": [
    "Ex 162"
   ]
  },
  {
   "cell_type": "markdown",
   "id": "e89a3790-ca71-4a80-b639-6f551dcf1d3d",
   "metadata": {},
   "source": [
    "x = thisdict.values()\n"
   ]
  },
  {
   "cell_type": "markdown",
   "id": "454d0c3b-1907-4ce9-9e0d-780208d6bac9",
   "metadata": {},
   "source": [
    "Ex 163"
   ]
  },
  {
   "cell_type": "code",
   "execution_count": 188,
   "id": "8f69cb0e-553c-491f-96f4-2e91300125ef",
   "metadata": {},
   "outputs": [
    {
     "name": "stdout",
     "output_type": "stream",
     "text": [
      "dict_values(['Ford', 'Mustang', 1964])\n",
      "dict_values(['Ford', 'Mustang', 2020])\n"
     ]
    }
   ],
   "source": [
    "Car = {\n",
    "    \"brand\": \"Ford\",\n",
    "    \"model\": \"Mustang\",\n",
    "    \"year\": 1964\n",
    "}\n",
    "\n",
    "x = Car.values()\n",
    "\n",
    "print(x) #before the change\n",
    "\n",
    "Car[\"year\"] = 2020\n",
    "\n",
    "print(x) #after the change\n",
    "    "
   ]
  },
  {
   "cell_type": "markdown",
   "id": "b03a824b-c413-4d36-b979-d85d25fe76f3",
   "metadata": {},
   "source": [
    "Ex 164"
   ]
  },
  {
   "cell_type": "code",
   "execution_count": 191,
   "id": "90c39b12-de8f-4421-8d90-62852f9dade8",
   "metadata": {},
   "outputs": [
    {
     "name": "stdout",
     "output_type": "stream",
     "text": [
      "dict_values(['Ford', 'Mustang', 1964])\n",
      "dict_values(['Ford', 'Mustang', 1964, 'red'])\n"
     ]
    }
   ],
   "source": [
    "Car = {\n",
    "    \"brand\": \"Ford\",\n",
    "    \"model\": \"Mustang\",\n",
    "    \"year\": 1964\n",
    "}\n",
    "\n",
    "x = Car.values()\n",
    "\n",
    "print(x) #before the change\n",
    "\n",
    "Car[\"color\"] = \"red\"\n",
    "\n",
    "print(x) #after the change\n",
    "    "
   ]
  },
  {
   "cell_type": "markdown",
   "id": "e23ec1ad-885b-408b-aa87-b463ce5d6cf8",
   "metadata": {},
   "source": [
    "Ex 165"
   ]
  },
  {
   "cell_type": "code",
   "execution_count": 194,
   "id": "02c71794-eb83-4623-90cd-3e71c1a39dec",
   "metadata": {},
   "outputs": [],
   "source": [
    "x = thisdict.items()"
   ]
  },
  {
   "cell_type": "markdown",
   "id": "adc69669-4543-4a55-933b-2ee564d99cc1",
   "metadata": {},
   "source": [
    "Ex 166"
   ]
  },
  {
   "cell_type": "code",
   "execution_count": 199,
   "id": "3dca2a8c-4cd0-4519-baa8-e06c59672b15",
   "metadata": {},
   "outputs": [
    {
     "name": "stdout",
     "output_type": "stream",
     "text": [
      "dict_items([('brand', 'Ford'), ('model', 'Mustang'), ('year', 1964)])\n",
      "dict_items([('brand', 'Ford'), ('model', 'Mustang'), ('year', 2020)])\n"
     ]
    }
   ],
   "source": [
    "Car = {\n",
    "    \"brand\": \"Ford\",\n",
    "    \"model\": \"Mustang\",\n",
    "    \"year\": 1964\n",
    "}\n",
    "\n",
    "x = Car.items()\n",
    "\n",
    "print(x) #before the change\n",
    "\n",
    "Car[\"year\"] = 2020\n",
    "\n",
    "print(x) #after the change\n",
    "    "
   ]
  },
  {
   "cell_type": "markdown",
   "id": "96d60fee-dbce-4a41-ae21-5842a247199a",
   "metadata": {},
   "source": [
    "Ex 167"
   ]
  },
  {
   "cell_type": "code",
   "execution_count": 202,
   "id": "00f8a624-4b53-4305-bc5d-cd248f63e0d9",
   "metadata": {},
   "outputs": [
    {
     "name": "stdout",
     "output_type": "stream",
     "text": [
      "dict_items([('brand', 'Ford'), ('model', 'Mustang'), ('year', 1964)])\n",
      "dict_items([('brand', 'Ford'), ('model', 'Mustang'), ('year', 1964), ('color', 'red')])\n"
     ]
    }
   ],
   "source": [
    "Car = {\n",
    "    \"brand\": \"Ford\",\n",
    "    \"model\": \"Mustang\",\n",
    "    \"year\": 1964\n",
    "}\n",
    "\n",
    "x = Car.items()\n",
    "\n",
    "print(x) #before the change\n",
    "\n",
    "Car[\"color\"] = \"red\"\n",
    "\n",
    "print(x) #after the change\n",
    "    "
   ]
  },
  {
   "cell_type": "markdown",
   "id": "59cf9497-4538-4101-aadd-c7c7f6d070f8",
   "metadata": {},
   "source": [
    "Ex 168"
   ]
  },
  {
   "cell_type": "code",
   "execution_count": 209,
   "id": "027941f9-e0c1-4ac0-9109-7334365f2bce",
   "metadata": {},
   "outputs": [
    {
     "name": "stdout",
     "output_type": "stream",
     "text": [
      "Yes, 'model' is one of the keys in the thisdict dictionary\n"
     ]
    }
   ],
   "source": [
    "thisdict = {\n",
    "    \"brand\": \"Ford\",\n",
    "    \"model\": \"Mustang\",\n",
    "    \"year\": 1964\n",
    "}\n",
    "if \"model\" in thisdict:\n",
    "    print(\"Yes, 'model' is one of the keys in the thisdict dictionary\")"
   ]
  },
  {
   "cell_type": "markdown",
   "id": "ace38cee-6ac5-45be-962c-805a0e8603c0",
   "metadata": {},
   "source": [
    "Ex 169\n",
    "\n"
   ]
  },
  {
   "cell_type": "code",
   "execution_count": 212,
   "id": "070d0043-228c-4ba3-9a11-1107d798933f",
   "metadata": {},
   "outputs": [],
   "source": [
    "thisdict = {\n",
    "    \"brand\": \"Ford\",\n",
    "    \"model\": \"Mustang\",\n",
    "    \"year\": 1964\n",
    "}\n",
    "thisdict[\"year\"] = 2018"
   ]
  },
  {
   "cell_type": "markdown",
   "id": "9571ad0d-64c5-4e43-a67c-5dc0d93e2ad1",
   "metadata": {},
   "source": [
    "Ex 170"
   ]
  },
  {
   "cell_type": "code",
   "execution_count": 217,
   "id": "3365dbe5-efbd-4646-bacd-cecdf7fc6447",
   "metadata": {},
   "outputs": [],
   "source": [
    "thisdict = {\n",
    "    \"brand\": \"Ford\",\n",
    "    \"model\": \"Mustang\",\n",
    "    \"year\": 1964\n",
    "}\n",
    "thisdict.update({\"year\": 2020})"
   ]
  },
  {
   "cell_type": "markdown",
   "id": "582b3c9e-335e-4d09-9d3f-987bb17224e0",
   "metadata": {},
   "source": [
    "Ex 171\n"
   ]
  },
  {
   "cell_type": "code",
   "execution_count": 220,
   "id": "f014ded1-e418-4898-b897-80f97b2b6852",
   "metadata": {},
   "outputs": [
    {
     "name": "stdout",
     "output_type": "stream",
     "text": [
      "{'brand': 'Ford', 'model': 'Mustang', 'year': 1964, 'color': 'red'}\n"
     ]
    }
   ],
   "source": [
    "thisdict = {\n",
    "    \"brand\": \"Ford\",\n",
    "    \"model\": \"Mustang\",\n",
    "    \"year\": 1964\n",
    "}\n",
    "thisdict[\"color\"] = \"red\"\n",
    "print(thisdict)"
   ]
  },
  {
   "cell_type": "markdown",
   "id": "163578dc-cd5e-4378-990e-b23bd43514d8",
   "metadata": {},
   "source": [
    "Ex 172"
   ]
  },
  {
   "cell_type": "code",
   "execution_count": 223,
   "id": "9bc8faef-d9f6-4da8-a162-f6808e073016",
   "metadata": {},
   "outputs": [],
   "source": [
    "thisdict = {\n",
    "    \"brand\": \"Ford\",\n",
    "    \"model\": \"Mustang\",\n",
    "    \"year\": 1964\n",
    "}\n",
    "thisdict.update({\"color\": \"red\"})"
   ]
  },
  {
   "cell_type": "markdown",
   "id": "b6ff2650-4b30-48b2-88d7-b9bafd04d77b",
   "metadata": {},
   "source": [
    "Ex 173"
   ]
  },
  {
   "cell_type": "code",
   "execution_count": 226,
   "id": "c243ff45-9e1f-423c-bb7d-c7509cc41533",
   "metadata": {},
   "outputs": [
    {
     "name": "stdout",
     "output_type": "stream",
     "text": [
      "{'brand': 'Ford', 'year': 1964}\n"
     ]
    }
   ],
   "source": [
    "thisdict = {\n",
    "    \"brand\": \"Ford\",\n",
    "    \"model\": \"Mustang\",\n",
    "    \"year\": 1964\n",
    "}\n",
    "thisdict.pop(\"model\")\n",
    "print(thisdict)\n"
   ]
  },
  {
   "cell_type": "markdown",
   "id": "d8215163-e01a-49fb-a38e-4666c131849b",
   "metadata": {},
   "source": [
    "Ex 174"
   ]
  },
  {
   "cell_type": "code",
   "execution_count": 229,
   "id": "20538b20-39bc-464c-8bae-42c4793b9712",
   "metadata": {},
   "outputs": [
    {
     "name": "stdout",
     "output_type": "stream",
     "text": [
      "{'brand': 'Ford', 'model': 'Mustang'}\n"
     ]
    }
   ],
   "source": [
    "thisdict = {\n",
    "    \"brand\": \"Ford\",\n",
    "    \"model\": \"Mustang\",\n",
    "    \"year\": 1964\n",
    "}\n",
    "thisdict.popitem()\n",
    "print(thisdict)"
   ]
  },
  {
   "cell_type": "markdown",
   "id": "800323a2-823f-4a45-baad-8778ebafc21a",
   "metadata": {},
   "source": [
    "Ex 175"
   ]
  },
  {
   "cell_type": "code",
   "execution_count": 232,
   "id": "605d2f6e-2a25-488a-8572-807e65b39cf7",
   "metadata": {},
   "outputs": [
    {
     "name": "stdout",
     "output_type": "stream",
     "text": [
      "{'brand': 'Ford', 'year': 1964}\n"
     ]
    }
   ],
   "source": [
    "thisdict = {\n",
    "    \"brand\": \"Ford\",\n",
    "    \"model\": \"Mustang\",\n",
    "    \"year\": 1964\n",
    "}\n",
    "del thisdict[\"model\"]\n",
    "print(thisdict)"
   ]
  },
  {
   "cell_type": "markdown",
   "id": "aea52734-7588-491b-92dc-d71a8bc15d7b",
   "metadata": {},
   "source": [
    "Ex 176 x"
   ]
  },
  {
   "cell_type": "code",
   "execution_count": 239,
   "id": "86b999a4-7e63-4a4f-9d44-c609aed72eb8",
   "metadata": {},
   "outputs": [
    {
     "ename": "NameError",
     "evalue": "name 'thisdict' is not defined",
     "output_type": "error",
     "traceback": [
      "\u001b[0;31m---------------------------------------------------------------------------\u001b[0m",
      "\u001b[0;31mNameError\u001b[0m                                 Traceback (most recent call last)",
      "Cell \u001b[0;32mIn[239], line 7\u001b[0m\n\u001b[1;32m      1\u001b[0m thisdict \u001b[38;5;241m=\u001b[39m {\n\u001b[1;32m      2\u001b[0m     \u001b[38;5;124m\"\u001b[39m\u001b[38;5;124mbrand\u001b[39m\u001b[38;5;124m\"\u001b[39m: \u001b[38;5;124m\"\u001b[39m\u001b[38;5;124mFord\u001b[39m\u001b[38;5;124m\"\u001b[39m,\n\u001b[1;32m      3\u001b[0m     \u001b[38;5;124m\"\u001b[39m\u001b[38;5;124mmodel\u001b[39m\u001b[38;5;124m\"\u001b[39m: \u001b[38;5;124m\"\u001b[39m\u001b[38;5;124mMustang\u001b[39m\u001b[38;5;124m\"\u001b[39m,\n\u001b[1;32m      4\u001b[0m     \u001b[38;5;124m\"\u001b[39m\u001b[38;5;124myear\u001b[39m\u001b[38;5;124m\"\u001b[39m: \u001b[38;5;241m1964\u001b[39m\n\u001b[1;32m      5\u001b[0m }\n\u001b[1;32m      6\u001b[0m \u001b[38;5;28;01mdel\u001b[39;00m thisdict\n\u001b[0;32m----> 7\u001b[0m \u001b[38;5;28mprint\u001b[39m(\u001b[43mthisdict\u001b[49m)\n",
      "\u001b[0;31mNameError\u001b[0m: name 'thisdict' is not defined"
     ]
    }
   ],
   "source": [
    "thisdict = {\n",
    "    \"brand\": \"Ford\",\n",
    "    \"model\": \"Mustang\",\n",
    "    \"year\": 1964\n",
    "}\n",
    "del thisdict\n",
    "print(thisdict) #this will cause an error because 'THISDICT' no longer exists."
   ]
  },
  {
   "cell_type": "markdown",
   "id": "9fb397ea-b30d-4ba2-a5a8-70b2b330d2d7",
   "metadata": {},
   "source": [
    "Ex 177"
   ]
  },
  {
   "cell_type": "code",
   "execution_count": 242,
   "id": "842da617-7ae6-45d1-8e36-5999bf0c62d0",
   "metadata": {},
   "outputs": [
    {
     "name": "stdout",
     "output_type": "stream",
     "text": [
      "{}\n"
     ]
    }
   ],
   "source": [
    "thisdict = {\n",
    "    \"brand\": \"Ford\",\n",
    "    \"model\": \"Mustang\",\n",
    "    \"year\": 1964\n",
    "}\n",
    "thisdict.clear()\n",
    "print(thisdict)"
   ]
  },
  {
   "cell_type": "markdown",
   "id": "d6c062bc-0c7b-45da-b939-97fbfe6cf549",
   "metadata": {},
   "source": [
    "Ex 178"
   ]
  },
  {
   "cell_type": "code",
   "execution_count": 245,
   "id": "6e789163-abf1-4e44-89d5-1d9f6e08dca9",
   "metadata": {},
   "outputs": [],
   "source": [
    "for x in thisdict:\n",
    "    print(x)"
   ]
  },
  {
   "cell_type": "markdown",
   "id": "3d18f8e3-14e6-4812-981d-4890f941081f",
   "metadata": {},
   "source": [
    "Ex 179"
   ]
  },
  {
   "cell_type": "code",
   "execution_count": 248,
   "id": "a7c68688-0db5-4591-8434-b7842b225e8d",
   "metadata": {},
   "outputs": [],
   "source": [
    "for x in thisdict:\n",
    "    print(thisdict[x])"
   ]
  },
  {
   "cell_type": "markdown",
   "id": "15748e47-14ba-488a-a581-51bca816449d",
   "metadata": {},
   "source": [
    "Ex 180"
   ]
  },
  {
   "cell_type": "code",
   "execution_count": 251,
   "id": "6f0d83d6-d8ee-4cde-a380-40ffd75af9d5",
   "metadata": {},
   "outputs": [],
   "source": [
    "for x in thisdict.values():\n",
    "    print(x)\n",
    "    "
   ]
  },
  {
   "cell_type": "markdown",
   "id": "2543caee-6d10-40ab-a7da-44a4ac4a4525",
   "metadata": {},
   "source": [
    "Ex 181"
   ]
  },
  {
   "cell_type": "code",
   "execution_count": 254,
   "id": "be32986b-1587-4241-8d0e-3d30fbd627b9",
   "metadata": {},
   "outputs": [],
   "source": [
    "for x in thisdict.keys():\n",
    "    print(x)"
   ]
  },
  {
   "cell_type": "markdown",
   "id": "c27ac2de-4f56-4514-b970-fc8ddf3da930",
   "metadata": {},
   "source": [
    "Ex 182"
   ]
  },
  {
   "cell_type": "code",
   "execution_count": 257,
   "id": "ee2887a4-f15e-46e1-9b6a-85f2b431faca",
   "metadata": {},
   "outputs": [],
   "source": [
    "for x, y in thisdict.items():\n",
    "    print(x, y)"
   ]
  },
  {
   "cell_type": "markdown",
   "id": "0950a16d-ae69-4b1f-a580-36a2d17ae052",
   "metadata": {},
   "source": [
    "Ex 183"
   ]
  },
  {
   "cell_type": "code",
   "execution_count": 260,
   "id": "18a89278-e2af-4501-83d3-4b6b0e7055b6",
   "metadata": {},
   "outputs": [
    {
     "name": "stdout",
     "output_type": "stream",
     "text": [
      "{'brand': 'Ford', 'model': 'Mustang', 'year': 1964}\n"
     ]
    }
   ],
   "source": [
    "thisdict = {\n",
    "    \"brand\": \"Ford\",\n",
    "    \"model\": \"Mustang\",\n",
    "    \"year\": 1964\n",
    "}\n",
    "mydict = thisdict.copy()\n",
    "print(mydict)"
   ]
  },
  {
   "cell_type": "markdown",
   "id": "3c1c347c-7726-4e23-9e31-fed5e22a3449",
   "metadata": {},
   "source": [
    "Ex 184"
   ]
  },
  {
   "cell_type": "code",
   "execution_count": 263,
   "id": "d9f7c642-ed01-4a31-8f72-72f305706987",
   "metadata": {},
   "outputs": [
    {
     "name": "stdout",
     "output_type": "stream",
     "text": [
      "{'brand': 'Ford', 'model': 'Mustang', 'year': 1964}\n"
     ]
    }
   ],
   "source": [
    "thisdict = {\n",
    "    \"brand\": \"Ford\",\n",
    "    \"model\": \"Mustang\",\n",
    "    \"year\": 1964\n",
    "}\n",
    "mydict = dict(thisdict)\n",
    "print(mydict)"
   ]
  },
  {
   "cell_type": "markdown",
   "id": "59116e71-17a1-4cbf-85d8-e640b17c6941",
   "metadata": {},
   "source": [
    "Ex 185"
   ]
  },
  {
   "cell_type": "code",
   "execution_count": 272,
   "id": "938e3f4f-7265-4f4d-b9c0-7bfe24660471",
   "metadata": {},
   "outputs": [],
   "source": [
    "myfamily = {\n",
    "    \"Child\" : {\n",
    "        \"name\" : \"Emil\",\n",
    "        \"year\" : 2004\n",
    "    },\n",
    "    \"Child2\" : {\n",
    "        \"name\" : \"Tobias\",\n",
    "        \"year\" : 2007\n",
    "    },\n",
    "    \"Child3\" : {\n",
    "        \"name\" : \"Linus\",\n",
    "        \"year\" : 2011\n",
    "    }\n",
    "}"
   ]
  },
  {
   "cell_type": "markdown",
   "id": "16fd9754-792e-4856-87f6-269ecf135101",
   "metadata": {},
   "source": [
    "Ex 186"
   ]
  },
  {
   "cell_type": "markdown",
   "id": "c6a9c97b-764e-4f21-8b3f-b91b1b7a064b",
   "metadata": {},
   "source": [
    "child1 = {\n",
    "    \"name\" : \"Emil\",\n",
    "    \"year\" : 2004\n",
    "}\n",
    "child2 = {\n",
    "    \"name\" : \"Tobies\",\n",
    "    \"year\" : 2007\n",
    "}\n",
    "child3 = {\n",
    "    \"name\" : \"Linus\",\n",
    "    \"year\" : 2011\n",
    "}\n",
    "\n",
    "myfamily = {\n",
    "    \"child1\" : child1,\n",
    "    \"child2\" : child2,\n",
    "    \"child3\" : child3\n",
    "}"
   ]
  },
  {
   "cell_type": "markdown",
   "id": "006c8922-f253-4f4a-9016-e96c94552f0d",
   "metadata": {},
   "source": [
    "Ex 187"
   ]
  },
  {
   "cell_type": "code",
   "execution_count": 282,
   "id": "c99d9ba1-7e7b-4320-9003-2d35c16d4e1b",
   "metadata": {},
   "outputs": [
    {
     "ename": "KeyError",
     "evalue": "'child2'",
     "output_type": "error",
     "traceback": [
      "\u001b[0;31m---------------------------------------------------------------------------\u001b[0m",
      "\u001b[0;31mKeyError\u001b[0m                                  Traceback (most recent call last)",
      "Cell \u001b[0;32mIn[282], line 1\u001b[0m\n\u001b[0;32m----> 1\u001b[0m \u001b[38;5;28mprint\u001b[39m(\u001b[43mmyfamily\u001b[49m\u001b[43m[\u001b[49m\u001b[38;5;124;43m\"\u001b[39;49m\u001b[38;5;124;43mchild2\u001b[39;49m\u001b[38;5;124;43m\"\u001b[39;49m\u001b[43m]\u001b[49m[\u001b[38;5;124m\"\u001b[39m\u001b[38;5;124mname\u001b[39m\u001b[38;5;124m\"\u001b[39m])\n",
      "\u001b[0;31mKeyError\u001b[0m: 'child2'"
     ]
    }
   ],
   "source": [
    "print(myfamily[\"child2\"][\"name\"])"
   ]
  },
  {
   "cell_type": "markdown",
   "id": "c76ad76d-c646-49a6-8a91-3fe494fe3aeb",
   "metadata": {},
   "source": [
    "Ex 188"
   ]
  },
  {
   "cell_type": "code",
   "execution_count": 285,
   "id": "39730bb8-c697-4959-9796-d1a3f90457c5",
   "metadata": {},
   "outputs": [
    {
     "name": "stdout",
     "output_type": "stream",
     "text": [
      "Child\n",
      "name: Emil\n",
      "year: 2004\n",
      "Child2\n",
      "name: Tobias\n",
      "year: 2007\n",
      "Child3\n",
      "name: Linus\n",
      "year: 2011\n"
     ]
    }
   ],
   "source": [
    "for x, obj in myfamily.items():\n",
    "    print(x)\n",
    "\n",
    "    for y in obj:\n",
    "        print(y + ':', obj[y])"
   ]
  },
  {
   "cell_type": "markdown",
   "id": "a00744fb-f43a-4bfd-aab0-3551ca82079f",
   "metadata": {},
   "source": [
    "Python if...else\n",
    "Ex 189"
   ]
  },
  {
   "cell_type": "code",
   "execution_count": 288,
   "id": "573585d5-1446-4776-8e46-ba912ee8872b",
   "metadata": {},
   "outputs": [
    {
     "name": "stdout",
     "output_type": "stream",
     "text": [
      "b is greater than a\n"
     ]
    }
   ],
   "source": [
    "a = 33\n",
    "b = 200\n",
    "if b > a:\n",
    "    print(\"b is greater than a\")"
   ]
  },
  {
   "cell_type": "markdown",
   "id": "7518c8e9-1b1b-4741-9e87-2b1298829a46",
   "metadata": {},
   "source": [
    " Ex 190 x\n",
    " "
   ]
  },
  {
   "cell_type": "code",
   "execution_count": 292,
   "id": "7298b0ea-8133-4be3-b4d6-34bba846797f",
   "metadata": {},
   "outputs": [
    {
     "ename": "IndentationError",
     "evalue": "expected an indented block after 'if' statement on line 3 (1111622982.py, line 4)",
     "output_type": "error",
     "traceback": [
      "\u001b[0;36m  Cell \u001b[0;32mIn[292], line 4\u001b[0;36m\u001b[0m\n\u001b[0;31m    print(\"b is greater than a\")\u001b[0m\n\u001b[0m    ^\u001b[0m\n\u001b[0;31mIndentationError\u001b[0m\u001b[0;31m:\u001b[0m expected an indented block after 'if' statement on line 3\n"
     ]
    }
   ],
   "source": [
    "a = 33\n",
    "b = 200\n",
    "if b > a:\n",
    "print(\"b is greater than a\")"
   ]
  },
  {
   "cell_type": "markdown",
   "id": "a6db7976-88c9-44a9-b919-caac5a4b1a2b",
   "metadata": {},
   "source": [
    "Ex 191"
   ]
  },
  {
   "cell_type": "code",
   "execution_count": 295,
   "id": "a4ae7530-a50b-4df7-9ace-32f86c207669",
   "metadata": {},
   "outputs": [
    {
     "name": "stdout",
     "output_type": "stream",
     "text": [
      "b is greater than a\n"
     ]
    }
   ],
   "source": [
    "a = 33\n",
    "b = 200\n",
    "if b > a:\n",
    "    print(\"b is greater than a\")\n",
    "elif a == b:\n",
    "    print(\"a and b are equal\")"
   ]
  },
  {
   "cell_type": "markdown",
   "id": "54d382d4-82e4-48c5-b956-18bcdcd94324",
   "metadata": {},
   "source": [
    "Ex 192"
   ]
  },
  {
   "cell_type": "code",
   "execution_count": 298,
   "id": "b193dde8-9705-430a-aa1c-7708f459e0e2",
   "metadata": {},
   "outputs": [
    {
     "name": "stdout",
     "output_type": "stream",
     "text": [
      "b is greater than a\n"
     ]
    }
   ],
   "source": [
    "a = 33\n",
    "b = 200\n",
    "if b > a:\n",
    "    print(\"b is greater than a\")\n",
    "elif a == b:\n",
    "    print(\"a and b are equal\")\n",
    "else:\n",
    "    print(\"a is greater than b\")"
   ]
  },
  {
   "cell_type": "markdown",
   "id": "2480d270-1d59-493b-8c87-229cf9533138",
   "metadata": {},
   "source": [
    "Ex 193"
   ]
  },
  {
   "cell_type": "code",
   "execution_count": 301,
   "id": "0dae7022-2737-44c6-9ec1-3b5e305e10ac",
   "metadata": {},
   "outputs": [
    {
     "name": "stdout",
     "output_type": "stream",
     "text": [
      "b is greater than a\n"
     ]
    }
   ],
   "source": [
    "a = 33\n",
    "b = 200\n",
    "if b > a:\n",
    "    print(\"b is greater than a\")\n",
    "else:\n",
    "    print(\"b is not greater than a\")"
   ]
  },
  {
   "cell_type": "markdown",
   "id": "b5085cc0-b935-41b6-b825-b2b9e8dab6c7",
   "metadata": {},
   "source": [
    "Ex 194"
   ]
  },
  {
   "cell_type": "code",
   "execution_count": 304,
   "id": "f6c57e31-d564-4b02-978a-d84b96311a02",
   "metadata": {},
   "outputs": [],
   "source": [
    "if a > b: print(\"a is greater than b\")"
   ]
  },
  {
   "cell_type": "markdown",
   "id": "bafa2b55-b04f-4ca9-b007-e0a35e429d1d",
   "metadata": {},
   "source": [
    "Ex 195"
   ]
  },
  {
   "cell_type": "code",
   "execution_count": 307,
   "id": "5f1d4d9d-a1af-4598-a5d8-96c1afe6b823",
   "metadata": {},
   "outputs": [
    {
     "name": "stdout",
     "output_type": "stream",
     "text": [
      "B\n"
     ]
    }
   ],
   "source": [
    "a = 2\n",
    "b = 330\n",
    "print(\"A\") if a > b else print(\"B\")"
   ]
  },
  {
   "cell_type": "markdown",
   "id": "34d8a160-f964-4bb9-bfb4-00d15b62679d",
   "metadata": {},
   "source": [
    "Ex 196"
   ]
  },
  {
   "cell_type": "code",
   "execution_count": 312,
   "id": "be49f88b-47b1-4cd1-a7e9-050ac71fa164",
   "metadata": {},
   "outputs": [
    {
     "name": "stdout",
     "output_type": "stream",
     "text": [
      "=\n"
     ]
    }
   ],
   "source": [
    "a = 330\n",
    "b = 330\n",
    "print(\"A\") if a > b else print(\"=\") if a == b else print(\"B\")"
   ]
  },
  {
   "cell_type": "markdown",
   "id": "14cc864d-444e-43d5-829d-5d823757af47",
   "metadata": {},
   "source": [
    "E 197"
   ]
  },
  {
   "cell_type": "code",
   "execution_count": 315,
   "id": "9cabc63d-3340-448e-81d8-9d5685a9b71c",
   "metadata": {},
   "outputs": [
    {
     "name": "stdout",
     "output_type": "stream",
     "text": [
      "Both conditions are True\n"
     ]
    }
   ],
   "source": [
    "a = 200\n",
    "b = 33\n",
    "c = 500\n",
    "if a > b and c > a:\n",
    "    print(\"Both conditions are True\")"
   ]
  },
  {
   "cell_type": "markdown",
   "id": "7d080bf0-b5bb-4bed-b093-98a6c1088726",
   "metadata": {},
   "source": [
    "Ex 198"
   ]
  },
  {
   "cell_type": "code",
   "execution_count": 318,
   "id": "cadc695a-702f-4094-860c-13963006a0be",
   "metadata": {},
   "outputs": [
    {
     "name": "stdout",
     "output_type": "stream",
     "text": [
      "At least one of the conditions is True\n"
     ]
    }
   ],
   "source": [
    "a = 200\n",
    "b = 33\n",
    "c = 500\n",
    "if a > b or a > c:\n",
    "    print(\"At least one of the conditions is True\")"
   ]
  },
  {
   "cell_type": "markdown",
   "id": "0153b11e-e1ce-456b-ae72-687118cd274d",
   "metadata": {},
   "source": [
    "Ex 199"
   ]
  },
  {
   "cell_type": "code",
   "execution_count": 321,
   "id": "d318c5cc-dbea-4c74-ba91-6f3390cc6471",
   "metadata": {},
   "outputs": [
    {
     "name": "stdout",
     "output_type": "stream",
     "text": [
      "a is NOT greater than b\n"
     ]
    }
   ],
   "source": [
    "a = 33\n",
    "b = 200\n",
    "if not a > b:\n",
    "    print(\"a is NOT greater than b\")"
   ]
  },
  {
   "cell_type": "markdown",
   "id": "e46013e2-b45f-47b1-8b5c-15f388180daa",
   "metadata": {},
   "source": [
    "Ex 200"
   ]
  },
  {
   "cell_type": "code",
   "execution_count": 324,
   "id": "6c95855a-261a-4ec8-bd39-79ef75ca9080",
   "metadata": {},
   "outputs": [
    {
     "name": "stdout",
     "output_type": "stream",
     "text": [
      "Above ten,\n",
      "and also above 20!\n"
     ]
    }
   ],
   "source": [
    "x = 41\n",
    "\n",
    "if x > 10:\n",
    "    print(\"Above ten,\")\n",
    "    if x > 20:\n",
    "        print(\"and also above 20!\")\n",
    "    else:\n",
    "        print(\"but not above 20.\")"
   ]
  },
  {
   "cell_type": "markdown",
   "id": "6a53e39f-69bf-4c67-a9b5-39b6e2ee83ef",
   "metadata": {},
   "source": [
    "Ex 201\n"
   ]
  },
  {
   "cell_type": "code",
   "execution_count": 327,
   "id": "0bf392ac-4759-4c9e-87e8-0748e9ab45b7",
   "metadata": {},
   "outputs": [],
   "source": [
    "a = 33\n",
    "b = 200\n",
    "\n",
    "if b > a:\n",
    "    pass"
   ]
  },
  {
   "cell_type": "markdown",
   "id": "9b8fa208-50ab-4752-aac2-d78769a78a71",
   "metadata": {},
   "source": [
    "Ex 202"
   ]
  },
  {
   "cell_type": "code",
   "execution_count": 330,
   "id": "5150f11d-2cec-4d46-9197-b09eb358d6a4",
   "metadata": {},
   "outputs": [
    {
     "name": "stdout",
     "output_type": "stream",
     "text": [
      "1\n",
      "2\n",
      "3\n",
      "4\n",
      "5\n"
     ]
    }
   ],
   "source": [
    "i = 1\n",
    "while i < 6:\n",
    "    print(i)\n",
    "    i += 1"
   ]
  },
  {
   "cell_type": "markdown",
   "id": "cbe12f68-f4ea-4bc8-8d49-29acee50eb70",
   "metadata": {},
   "source": [
    "Ex 203"
   ]
  },
  {
   "cell_type": "code",
   "execution_count": 333,
   "id": "bf1548ad-ff7e-415d-ae7a-9bc1f1813975",
   "metadata": {},
   "outputs": [
    {
     "name": "stdout",
     "output_type": "stream",
     "text": [
      "1\n",
      "2\n",
      "3\n"
     ]
    }
   ],
   "source": [
    "i = 1\n",
    "while i < 6:\n",
    "    print(i)\n",
    "    if i == 3:\n",
    "        break\n",
    "    i += 1"
   ]
  },
  {
   "cell_type": "markdown",
   "id": "22d27a63-1a8d-4e29-b3fd-641960cb908f",
   "metadata": {},
   "source": [
    "Ex 204"
   ]
  },
  {
   "cell_type": "code",
   "execution_count": 336,
   "id": "8948e408-b40b-48a6-9ec0-36730e9872b3",
   "metadata": {},
   "outputs": [
    {
     "name": "stdout",
     "output_type": "stream",
     "text": [
      "1\n",
      "2\n",
      "4\n",
      "5\n",
      "6\n"
     ]
    }
   ],
   "source": [
    "i = 0\n",
    "while i < 6:\n",
    "    i += 1\n",
    "    if i == 3:\n",
    "        continue\n",
    "    print(i)"
   ]
  },
  {
   "cell_type": "markdown",
   "id": "80fee70a-d159-4742-a02b-977d49a16b52",
   "metadata": {},
   "source": [
    "Ex 205"
   ]
  },
  {
   "cell_type": "code",
   "execution_count": 339,
   "id": "02a55fe2-fd27-43ac-b6b8-86cf3e50c3d5",
   "metadata": {},
   "outputs": [
    {
     "name": "stdout",
     "output_type": "stream",
     "text": [
      "1\n",
      "2\n",
      "3\n",
      "4\n",
      "5\n",
      "i is no longer less than 6\n"
     ]
    }
   ],
   "source": [
    "i = 1\n",
    "while i < 6:\n",
    "    print(i)\n",
    "    i += 1\n",
    "else:\n",
    "    print(\"i is no longer less than 6\")"
   ]
  },
  {
   "cell_type": "markdown",
   "id": "acdd2d13-e24a-4427-923e-204bb0e1b292",
   "metadata": {},
   "source": [
    "Ex 206"
   ]
  },
  {
   "cell_type": "code",
   "execution_count": 342,
   "id": "bed09be5-81e2-4dc8-a775-4b2af7f5ab80",
   "metadata": {},
   "outputs": [
    {
     "name": "stdout",
     "output_type": "stream",
     "text": [
      "appple\n",
      "banana\n",
      "cherry\n"
     ]
    }
   ],
   "source": [
    "fruits = [\"appple\", \"banana\", \"cherry\"]\n",
    "for x in fruits:\n",
    "    print(x)"
   ]
  },
  {
   "cell_type": "markdown",
   "id": "d80d2782-71cc-48f1-9d0f-06177b353fcf",
   "metadata": {},
   "source": [
    "Ex 207"
   ]
  },
  {
   "cell_type": "code",
   "execution_count": 345,
   "id": "ef408aa7-4ada-46a7-b874-9ff93b6b9f78",
   "metadata": {},
   "outputs": [
    {
     "name": "stdout",
     "output_type": "stream",
     "text": [
      "b\n",
      "a\n",
      "n\n",
      "a\n",
      "n\n",
      "a\n"
     ]
    }
   ],
   "source": [
    "for x in \"banana\":\n",
    "    print(x)\n",
    "    "
   ]
  },
  {
   "cell_type": "markdown",
   "id": "21bef562-dc95-4274-8868-fef786605394",
   "metadata": {},
   "source": [
    "Ex 208"
   ]
  },
  {
   "cell_type": "code",
   "execution_count": 350,
   "id": "68f4ea81-1f1b-4f1d-b724-69402a8940fb",
   "metadata": {},
   "outputs": [
    {
     "name": "stdout",
     "output_type": "stream",
     "text": [
      "apple\n",
      "banana\n"
     ]
    }
   ],
   "source": [
    "fruits = [\"apple\", \"banana\", \"cherry\"]\n",
    "for x in fruits:\n",
    "    print(x)\n",
    "    if x == \"banana\":\n",
    "        break"
   ]
  },
  {
   "cell_type": "markdown",
   "id": "47dab068-dcf3-48bd-9e9d-722fdeba0b36",
   "metadata": {},
   "source": [
    "Ex 209"
   ]
  },
  {
   "cell_type": "code",
   "execution_count": 353,
   "id": "815ea664-3c1a-4d05-bbfa-d0ba230988de",
   "metadata": {},
   "outputs": [
    {
     "name": "stdout",
     "output_type": "stream",
     "text": [
      "apple\n"
     ]
    }
   ],
   "source": [
    "fruits = [\"apple\", \"banana\", \"cherry\"]\n",
    "for x in fruits:\n",
    "    if x == \"banana\":\n",
    "        break\n",
    "    print(x)"
   ]
  },
  {
   "cell_type": "markdown",
   "id": "61478607-89ec-405a-930a-71239e8c30a0",
   "metadata": {},
   "source": [
    "Ex 210"
   ]
  },
  {
   "cell_type": "code",
   "execution_count": 358,
   "id": "b36b521f-88bd-4257-a190-b1ff9a25e3fa",
   "metadata": {},
   "outputs": [
    {
     "name": "stdout",
     "output_type": "stream",
     "text": [
      "apple\n",
      "cherry\n"
     ]
    }
   ],
   "source": [
    "fruits = [\"apple\", \"banana\", \"cherry\"]\n",
    "for x in fruits:\n",
    "    if x == \"banana\":\n",
    "        continue\n",
    "    print(x)"
   ]
  },
  {
   "cell_type": "markdown",
   "id": "5cb6e359-1162-46ca-b20b-d16e5074a586",
   "metadata": {},
   "source": [
    "Ex 211"
   ]
  },
  {
   "cell_type": "code",
   "execution_count": 361,
   "id": "cc5eaf1f-6e4b-4d21-aea1-a87f6f3332ce",
   "metadata": {},
   "outputs": [
    {
     "name": "stdout",
     "output_type": "stream",
     "text": [
      "0\n",
      "1\n",
      "2\n",
      "3\n",
      "4\n",
      "5\n"
     ]
    }
   ],
   "source": [
    "for x in range(6):\n",
    "    print(x)"
   ]
  },
  {
   "cell_type": "code",
   "execution_count": 363,
   "id": "cf4587e0-150f-4590-bf91-5b7091e61393",
   "metadata": {},
   "outputs": [
    {
     "name": "stdout",
     "output_type": "stream",
     "text": [
      "2\n",
      "3\n",
      "4\n",
      "5\n"
     ]
    }
   ],
   "source": [
    "for x in range(2, 6):\n",
    "    print(x)"
   ]
  },
  {
   "cell_type": "markdown",
   "id": "52aba687-d67b-4cb8-a08b-06d8d72c3915",
   "metadata": {},
   "source": [
    "EX 212"
   ]
  },
  {
   "cell_type": "code",
   "execution_count": 366,
   "id": "570a68a8-92ac-496e-84db-95bfaddc9a43",
   "metadata": {},
   "outputs": [
    {
     "name": "stdout",
     "output_type": "stream",
     "text": [
      "2\n",
      "5\n",
      "8\n",
      "11\n",
      "14\n",
      "17\n",
      "20\n",
      "23\n",
      "26\n",
      "29\n"
     ]
    }
   ],
   "source": [
    "for x in range(2, 30, 3):\n",
    "    print(x)"
   ]
  },
  {
   "cell_type": "markdown",
   "id": "a5ca63d6-86b7-4283-850f-86a0155987fe",
   "metadata": {},
   "source": [
    "Ex 213"
   ]
  },
  {
   "cell_type": "code",
   "execution_count": 369,
   "id": "6c61303c-8a35-4c7e-94f0-89d8cffbccb0",
   "metadata": {},
   "outputs": [
    {
     "name": "stdout",
     "output_type": "stream",
     "text": [
      "0\n",
      "1\n",
      "2\n",
      "3\n",
      "4\n",
      "5\n",
      "Finally finished!\n"
     ]
    }
   ],
   "source": [
    "for x in range(6):\n",
    "    print(x)\n",
    "else:\n",
    "    print(\"Finally finished!\")"
   ]
  },
  {
   "cell_type": "markdown",
   "id": "88da7bc2-bd10-493f-96cf-9055d216b2d8",
   "metadata": {},
   "source": [
    "Ex 214"
   ]
  },
  {
   "cell_type": "code",
   "execution_count": 372,
   "id": "c50283b4-a11c-4814-9fac-b179e980b554",
   "metadata": {},
   "outputs": [
    {
     "name": "stdout",
     "output_type": "stream",
     "text": [
      "0\n",
      "1\n",
      "2\n"
     ]
    }
   ],
   "source": [
    "for x in range(6):\n",
    "    if x == 3: break\n",
    "    print(x)\n",
    "else:\n",
    "    print(\"Finally finished!\")"
   ]
  },
  {
   "cell_type": "markdown",
   "id": "7f86dc81-23fc-40b4-a154-e9273371c186",
   "metadata": {},
   "source": [
    "Ex 215"
   ]
  },
  {
   "cell_type": "code",
   "execution_count": 375,
   "id": "ce6950f5-e2e0-4ad5-b473-1a4c8518cbd9",
   "metadata": {},
   "outputs": [
    {
     "name": "stdout",
     "output_type": "stream",
     "text": [
      "red apple\n",
      "red banana\n",
      "red cherry\n",
      "big apple\n",
      "big banana\n",
      "big cherry\n",
      "tasty apple\n",
      "tasty banana\n",
      "tasty cherry\n"
     ]
    }
   ],
   "source": [
    "adj = [\"red\", \"big\", \"tasty\"]\n",
    "fruits = [\"apple\", \"banana\", \"cherry\"]\n",
    "\n",
    "for x in adj:\n",
    "    for y in fruits:\n",
    "        print(x, y)"
   ]
  },
  {
   "cell_type": "markdown",
   "id": "f0b71e23-d52d-4ee9-b02b-fe76a6e158f5",
   "metadata": {},
   "source": [
    "Ex 216"
   ]
  },
  {
   "cell_type": "code",
   "execution_count": 377,
   "id": "bbea2d43-8d56-42fa-a0df-472aa09f76d5",
   "metadata": {},
   "outputs": [],
   "source": [
    "for x in [0, 1, 2]:\n",
    "    pass"
   ]
  },
  {
   "cell_type": "code",
   "execution_count": null,
   "id": "8c7716c6-6c2a-44a0-8b3d-0fdb1f09f437",
   "metadata": {},
   "outputs": [],
   "source": []
  }
 ],
 "metadata": {
  "kernelspec": {
   "display_name": "anaconda-2024.02-py310",
   "language": "python",
   "name": "conda-env-anaconda-2024.02-py310-py"
  },
  "language_info": {
   "codemirror_mode": {
    "name": "ipython",
    "version": 3
   },
   "file_extension": ".py",
   "mimetype": "text/x-python",
   "name": "python",
   "nbconvert_exporter": "python",
   "pygments_lexer": "ipython3",
   "version": "3.10.14"
  }
 },
 "nbformat": 4,
 "nbformat_minor": 5
}
